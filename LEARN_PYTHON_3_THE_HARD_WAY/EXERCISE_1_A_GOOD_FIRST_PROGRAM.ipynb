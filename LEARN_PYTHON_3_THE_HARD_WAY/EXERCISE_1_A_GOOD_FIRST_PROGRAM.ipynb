{
 "cells": [
  {
   "cell_type": "markdown",
   "id": "64826482",
   "metadata": {},
   "source": [
    "# LEARN PYTHON 3 THE HARD WAY: A VERY SIMPLE INTRODUTION TO THE TERRYFYING BEAUTIFUL WORLD OF COMPUTERS AND CODE\n",
    "HERNAN CARLOS CHAVEZ PAURA - JAN 3, 2023<br/>\n",
    "Ref. Shaw, Zed A. \"Learn python the hard way.\" (2017).\n",
    "\n",
    "## EXERCISE 1"
   ]
  },
  {
   "cell_type": "markdown",
   "id": "27eecbc0",
   "metadata": {},
   "source": [
    "## A GOOD FIRST PROGRAM\n",
    "\n",
    "Type the following text:"
   ]
  },
  {
   "cell_type": "code",
   "execution_count": 1,
   "id": "0fc22a2b",
   "metadata": {},
   "outputs": [
    {
     "name": "stdout",
     "output_type": "stream",
     "text": [
      "Hello World!\n",
      "Hello Again\n",
      "I like typing this.\n",
      "This is fun.\n",
      "Yay! Printing.\n",
      "I'd much rather you 'not'.\n",
      "I \"said\" do not touch this.\n"
     ]
    }
   ],
   "source": [
    "print(\"Hello World!\")\n",
    "print(\"Hello Again\")\n",
    "print(\"I like typing this.\")\n",
    "print(\"This is fun.\")\n",
    "print('Yay! Printing.')\n",
    "print(\"I'd much rather you 'not'.\" )\n",
    "print('I \"said\" do not touch this.')"
   ]
  },
  {
   "cell_type": "markdown",
   "id": "56bd8129",
   "metadata": {},
   "source": [
    "## STUDY DRILLS\n",
    "\n",
    "The Study Drills contain things you should try to do. If you can't, skip it and come back later.\n",
    "\n",
    "For this exercise, try these things:\n",
    "\n",
    "1. Make your scripts print another line\n",
    "2. Make your script print only one of the lines.\n",
    "3. Put a # (octothorpe) character at the beginning "
   ]
  },
  {
   "cell_type": "code",
   "execution_count": 2,
   "id": "49c601c8",
   "metadata": {},
   "outputs": [
    {
     "name": "stdout",
     "output_type": "stream",
     "text": [
      "Hello World!\n",
      "Hello Again\n",
      "I like typing this.\n",
      "This is fun.\n",
      "Yay! Printing.\n",
      "I'd much rather you 'not'.\n",
      "I \"said\" do not touch this.\n",
      "Printing another line.\n"
     ]
    }
   ],
   "source": [
    "print(\"Hello World!\")\n",
    "print(\"Hello Again\")\n",
    "print(\"I like typing this.\")\n",
    "print(\"This is fun.\")\n",
    "print('Yay! Printing.')\n",
    "print(\"I'd much rather you 'not'.\" )\n",
    "print('I \"said\" do not touch this.')\n",
    "print('Printing another line.')"
   ]
  },
  {
   "cell_type": "code",
   "execution_count": 3,
   "id": "0ae22417",
   "metadata": {},
   "outputs": [
    {
     "name": "stdout",
     "output_type": "stream",
     "text": [
      "Hello World!\n"
     ]
    }
   ],
   "source": [
    "print(\"Hello World!\")"
   ]
  },
  {
   "cell_type": "code",
   "execution_count": 4,
   "id": "449d497a",
   "metadata": {},
   "outputs": [
    {
     "name": "stdout",
     "output_type": "stream",
     "text": [
      "Hello World!\n"
     ]
    }
   ],
   "source": [
    "print(\"Hello World!\")\n",
    "#print(\"Hello Again\")\n",
    "#print(\"I like typing this.\")\n",
    "#print(\"This is fun.\")\n",
    "#print('Yay! Printing.')\n",
    "#print(\"I'd much rather you 'not'.\" )\n",
    "#print('I \"said\" do not touch this.')\n",
    "#print('Printing another line.')"
   ]
  },
  {
   "cell_type": "markdown",
   "id": "d57ff616",
   "metadata": {},
   "source": [
    "From now on, I won't explain how each exercise works unless an exercise is different.\n",
    "\n",
    "**WARNING** An \"octothorpe\" is also called a \"pound\", \"hash\", \"mesh\", or any number of other names. Pick the one that makes you chill out."
   ]
  },
  {
   "cell_type": "markdown",
   "id": "69ec14b8",
   "metadata": {},
   "source": [
    "## COMMON STUDENT QUESTIONS\n",
    "\n",
    "These are actual questions that real students have asked when doing this exercise:\n",
    "\n",
    "**Can I use IDLE?** No, you should use Terminal on macOS and PoweShell on Windows. If you don't know how to use those, then you can read the appendix. \n",
    "\n",
    "**How do you get colors in your editor?** Save your file first as .py file, such as ex1.py. Then you'll have color when you type.\n",
    "\n",
    "**I get SyntaxError: invalid syntax when I run ex1.py**. You are probably trying to run Python, the trying to type Python again. Close your Terminal, start again, and right awat type only python3.6 ex1.py.\n",
    "\n",
    "**I get can't open file 'ex1.py': [Errno 2] No such file or directory**. You need to be on the same directory as the file you created. Make sure you use the *cd* command to go there first. For example, if you saved your file in lpthw/ex1.py, then you would do *cd lpthw/* before trying to run *python3.6 ex1.py*. If you don't know what any of that means, then go through the appendix.\n",
    "\n",
    "**My file doesn't run; I just get the prompt back with no output.** You most likely took the code in my ex1.py file literally and thought that *print(\"Hello World!\")* meant to type only *\"Hello World!\"* inot the line, without the *print*. Your file has to be exactly like mine."
   ]
  }
 ],
 "metadata": {
  "kernelspec": {
   "display_name": "Python 3 (ipykernel)",
   "language": "python",
   "name": "python3"
  },
  "language_info": {
   "codemirror_mode": {
    "name": "ipython",
    "version": 3
   },
   "file_extension": ".py",
   "mimetype": "text/x-python",
   "name": "python",
   "nbconvert_exporter": "python",
   "pygments_lexer": "ipython3",
   "version": "3.9.7"
  }
 },
 "nbformat": 4,
 "nbformat_minor": 5
}
