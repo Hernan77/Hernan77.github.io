{
 "cells": [
  {
   "cell_type": "markdown",
   "id": "ff030758",
   "metadata": {},
   "source": [
    "# LEARN PYTHON 3 THE HARD WAY: A VERY SIMPLE INTRODUTION TO THE TERRYFYING BEAUTIFUL WORLD OF COMPUTERS AND CODE\n",
    "\n",
    "HERNAN CARLOS CHAVEZ PAURA - JAN 3, 2023<br>\n",
    "Ref. Shaw, Zed A. \"Learn python the hard way.\" (2017)."
   ]
  },
  {
   "cell_type": "markdown",
   "id": "c9f3b702",
   "metadata": {},
   "source": [
    "## EXERCISE 4\n",
    "\n",
    "## VARIABLES AND NAMES\n",
    "\n",
    "Now you can print things an do math. The next step is to learn about variables in programming, a variable is nothing more than a name for something, similar to how my name, \"Zed\" is a name for \"the human being who wrote this book.\" Porgrammers use these variable names to make their code read more like English and because they have lousy memories. If they didn't use good names for things in their software, they'd get lost when they tried to read their code again.\n",
    "\n",
    "If you get stuck with this exercise, remember the tricks you have been taught so far of finding differences and focusing on details.\n",
    "\n",
    "1. Write a comment above each line explining to yourself in English what it does.\n",
    "2. Read your .py backward.\n",
    "3. Read your .py file out loud, saying even the characters."
   ]
  },
  {
   "cell_type": "code",
   "execution_count": 3,
   "id": "8d2e4e93",
   "metadata": {},
   "outputs": [
    {
     "name": "stdout",
     "output_type": "stream",
     "text": [
      "There are 100 cars available.\n",
      "There are only 30 drivers available.\n",
      "There will be 70 empty cars today.\n",
      "We can transport 120.0 people today.\n",
      "We have 90 to carpool today.\n",
      "We need to put about 3.0 in each car.\n"
     ]
    }
   ],
   "source": [
    "cars = 100\n",
    "space_in_a_car = 4.0\n",
    "drivers = 30\n",
    "passengers = 90\n",
    "cars_not_driven = cars - drivers\n",
    "cars_driven = drivers\n",
    "carpool_capacity = cars_driven * space_in_a_car\n",
    "average_passengers_per_car = passengers / cars_driven\n",
    "\n",
    "\n",
    "print(\"There are\", cars, \"cars available.\")\n",
    "print(\"There are only\", drivers, \"drivers available.\")\n",
    "print(\"There will be\", cars_not_driven, \"empty cars today.\")\n",
    "print(\"We can transport\", carpool_capacity, \"people today.\")\n",
    "print(\"We have\", passengers, \"to carpool today.\")\n",
    "print(\"We need to put about\", average_passengers_per_car, \"in each car.\")"
   ]
  },
  {
   "cell_type": "markdown",
   "id": "94823be0",
   "metadata": {},
   "source": [
    "**WARNING!** The _ in space_in_car is alled *underscore character*. Find out how to type it if you don't already know how. We use this character a lot to put an imaginary space between the words in variable names."
   ]
  },
  {
   "cell_type": "markdown",
   "id": "c549fc23",
   "metadata": {},
   "source": [
    "## STUDY DRILLS\n",
    "\n",
    "When I wrote this program the first time I had a mistake, and Python told me about it"
   ]
  },
  {
   "cell_type": "code",
   "execution_count": 4,
   "id": "822ebe5c",
   "metadata": {},
   "outputs": [
    {
     "ename": "NameError",
     "evalue": "name 'car_pool_capacity' is not defined",
     "output_type": "error",
     "traceback": [
      "\u001b[0;31m---------------------------------------------------------------------------\u001b[0m",
      "\u001b[0;31mNameError\u001b[0m                                 Traceback (most recent call last)",
      "\u001b[0;32m/var/folders/gx/xmycy8_j7w77_b_9y9phmzcm0000gq/T/ipykernel_12418/388045110.py\u001b[0m in \u001b[0;36m<module>\u001b[0;34m\u001b[0m\n\u001b[1;32m      6\u001b[0m \u001b[0mcars_driven\u001b[0m \u001b[0;34m=\u001b[0m \u001b[0mdrivers\u001b[0m\u001b[0;34m\u001b[0m\u001b[0;34m\u001b[0m\u001b[0m\n\u001b[1;32m      7\u001b[0m \u001b[0mcarpool_capacity\u001b[0m \u001b[0;34m=\u001b[0m \u001b[0mcars_driven\u001b[0m \u001b[0;34m*\u001b[0m \u001b[0mspace_in_a_car\u001b[0m\u001b[0;34m\u001b[0m\u001b[0;34m\u001b[0m\u001b[0m\n\u001b[0;32m----> 8\u001b[0;31m \u001b[0maverage_passengers_per_car\u001b[0m \u001b[0;34m=\u001b[0m \u001b[0mcar_pool_capacity\u001b[0m \u001b[0;34m/\u001b[0m \u001b[0mcars_driven\u001b[0m\u001b[0;34m\u001b[0m\u001b[0;34m\u001b[0m\u001b[0m\n\u001b[0m\u001b[1;32m      9\u001b[0m \u001b[0;34m\u001b[0m\u001b[0m\n\u001b[1;32m     10\u001b[0m \u001b[0;34m\u001b[0m\u001b[0m\n",
      "\u001b[0;31mNameError\u001b[0m: name 'car_pool_capacity' is not defined"
     ]
    }
   ],
   "source": [
    "cars = 100\n",
    "space_in_a_car = 4.0\n",
    "drivers = 30\n",
    "passengers = 90\n",
    "cars_not_driven = cars - drivers\n",
    "cars_driven = drivers\n",
    "carpool_capacity = cars_driven * space_in_a_car\n",
    "average_passengers_per_car = car_pool_capacity / cars_driven\n",
    "\n",
    "\n",
    "print(\"There are\", cars, \"cars available.\")\n",
    "print(\"There are only\", drivers, \"drivers available.\")\n",
    "print(\"There will be\", cars_not_driven, \"empty cars today.\")\n",
    "print(\"We can transport\", carpool_capacity, \"people today.\")\n",
    "print(\"We have\", passengers, \"to carpool today.\")\n",
    "print(\"We need to put about\", average_passengers_per_car, \"in each car.\")"
   ]
  },
  {
   "cell_type": "markdown",
   "id": "4db16c1b",
   "metadata": {},
   "source": [
    "Explain this error in your own words. Make sure you use line numbers and explain why.\n",
    "\n",
    "Here are more study drills:\n",
    "\n",
    "1. I used 4.0 for space_in_car, but is that necessary? What happens if it's just 4?\n",
    "2. Remember that 4.0 is a *floating point* number. It's just a number with a decimal point, and you need 4.0 instead of just 4 so that it is a floating point.\n",
    "3. Write comments above each of the variable assignments\n",
    "4. make sure you know what = is called (equals) and that its purpose is to give data (numbers, strings, etc.) name (cars_driven, passengers).\n",
    "5. Remember that _ is an underscore character.\n",
    "6. Try running python 3.6 from the Terminal as a calculator like you did before, and use variable names to do your calculations. Popular variable names include i, x, and j."
   ]
  },
  {
   "cell_type": "markdown",
   "id": "5df24ad6",
   "metadata": {},
   "source": [
    "## COMMON STUDENT QUESTIONS\n",
    "\n",
    "**What is the difference between = (single equal) and == (double equal)?** The = (single equal) assignes the value on the right to a variable on the left. The == (double equal) tests whether two things have the same value. You'll learn about this on Exercise 27.\n",
    "\n",
    "**Can we write x=100 instead of x = 100?** You can, but it's bad from. You should add space around operators like this so that it's easier to read.\n",
    "\n",
    "**What do you mean by \"read the file backward\"?** Very simple. Imagine you have a file with 16 lines of code in it. Start at line 16, and compare it to my file at line 16. Then do it again for 15, and so on until you've read the whole file backward.\n",
    "\n",
    "**Why did you use 4.0 for space_in_car?** It is mostly so you can find out what a floating point number is and ask this question. See the Study Drills."
   ]
  }
 ],
 "metadata": {
  "kernelspec": {
   "display_name": "Python 3 (ipykernel)",
   "language": "python",
   "name": "python3"
  },
  "language_info": {
   "codemirror_mode": {
    "name": "ipython",
    "version": 3
   },
   "file_extension": ".py",
   "mimetype": "text/x-python",
   "name": "python",
   "nbconvert_exporter": "python",
   "pygments_lexer": "ipython3",
   "version": "3.9.7"
  }
 },
 "nbformat": 4,
 "nbformat_minor": 5
}
