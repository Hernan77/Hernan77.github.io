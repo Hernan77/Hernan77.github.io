{
 "cells": [
  {
   "cell_type": "markdown",
   "id": "a2641462",
   "metadata": {},
   "source": [
    "# LEARN PYTHON 3 THE HARD WAY: A VERY SIMPLE INTRODUTION TO THE TERRYFYING BEAUTIFUL WORLD OF COMPUTERS AND CODE\n",
    "\n",
    "HERNAN CARLOS CHAVEZ PAURA - JAN 3, 2023<br>\n",
    "Ref. Shaw, Zed A. \"Learn python the hard way.\" (2017)."
   ]
  },
  {
   "cell_type": "markdown",
   "id": "10871b50",
   "metadata": {},
   "source": [
    "## EXERCISE 9\n",
    "\n",
    "## PRINTING, PRINTING, PRINTING\n",
    "\n",
    "By now you should realize the pattern for this book is to use mor ethan one exercise to teach you something new. I start with code that you might not understand, then more exercsies explain the con cept. If you don't understand something now, you will later as you complete more exercises. Write down what you don't understand, and keep going."
   ]
  },
  {
   "cell_type": "code",
   "execution_count": 1,
   "id": "4427cb6d",
   "metadata": {},
   "outputs": [
    {
     "name": "stdout",
     "output_type": "stream",
     "text": [
      "Here are the days:  Mon Tue Wed Thu Fri Sat Sun\n",
      "Here are the months:  Jan\n",
      "Feb\n",
      "Mar\n",
      "Apr\n",
      "May\n",
      "Jun\n",
      "Jul\n",
      "Aug\n",
      "\n",
      "There's something going on here.\n",
      "With the three double quotes.\n",
      "We'll be able to type as much as we like.\n",
      "Even 4 lines if we want, or 5, or 6.\n",
      "\n"
     ]
    }
   ],
   "source": [
    "# Here's something new strange stuff, remember type it exactly.\n",
    "\n",
    "days = \"Mon Tue Wed Thu Fri Sat Sun\"\n",
    "months = \"Jan\\nFeb\\nMar\\nApr\\nMay\\nJun\\nJul\\nAug\"\n",
    "\n",
    "print(\"Here are the days: \", days)\n",
    "print(\"Here are the months: \", months)\n",
    "\n",
    "print(\"\"\"\n",
    "There's something going on here.\n",
    "With the three double quotes.\n",
    "We'll be able to type as much as we like.\n",
    "Even 4 lines if we want, or 5, or 6.\n",
    "\"\"\")"
   ]
  },
  {
   "cell_type": "markdown",
   "id": "d04c87db",
   "metadata": {},
   "source": [
    "## STUDY DRILLS\n",
    "\n",
    "Check your work, write down your mistakes, try not to make them on the next exercise. Are you breaking your code and then fixing it? In other words, repeat the *Study Drills* from Exercise 7."
   ]
  },
  {
   "cell_type": "markdown",
   "id": "91203c64",
   "metadata": {},
   "source": [
    "## COMMON STUDENT QUESTIONS\n",
    "\n",
    "**Why do I get an error when I put spaces between the three double-quotes?** You have to type them like \"\"\" and not \" \" \", meaning with *no* spaces between each one.\n",
    "\n",
    "**What if I wanted to start the months on a new line?** You simply start the string with \\n, like this: \"\\nJan\\nFeb\\nMar\\nApr\\nMay\\nJun\\nJul\\nAug\"\n",
    "\n",
    "**Is it bad that my errors are always spelling mistakes?** Most programming error in the beginning (and even later) are simple spelling mistakes, typos, or getting simple things out of order."
   ]
  }
 ],
 "metadata": {
  "kernelspec": {
   "display_name": "Python 3 (ipykernel)",
   "language": "python",
   "name": "python3"
  },
  "language_info": {
   "codemirror_mode": {
    "name": "ipython",
    "version": 3
   },
   "file_extension": ".py",
   "mimetype": "text/x-python",
   "name": "python",
   "nbconvert_exporter": "python",
   "pygments_lexer": "ipython3",
   "version": "3.9.7"
  }
 },
 "nbformat": 4,
 "nbformat_minor": 5
}
