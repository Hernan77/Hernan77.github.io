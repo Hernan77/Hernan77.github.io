{
 "cells": [
  {
   "cell_type": "markdown",
   "id": "99847bba",
   "metadata": {},
   "source": [
    "# LEARN PYTHON 3 THE HARD WAY: A VERY SIMPLE INTRODUTION TO THE TERRYFYING BEAUTIFUL WORLD OF COMPUTERS AND CODE\n",
    "\n",
    "HERNAN CARLOS CHAVEZ PAURA - JAN 3, 2023<br>\n",
    "Ref. Shaw, Zed A. \"Learn python the hard way.\" (2017)."
   ]
  },
  {
   "cell_type": "markdown",
   "id": "d1664727",
   "metadata": {},
   "source": [
    "## EXERCISE 10\n",
    "\n",
    "## WHAT WAS THAT?\n",
    "\n",
    "In Exercise 9 I thre you some new stuff, juat to keep you on your toes. I showed you two ways to make a string that goes across multiple lines. In the first way, we put the characters \\n (backslash n) between the names of the months. These two characters put a *new line character* into the string at that point.\n",
    "\n",
    "This \\ (backslash) character encodes difficult-to-type characters into a string. There are various *escape sequences* available for different characters you might want to use. We'll try a few of these sequences so you can see what I mean.\n",
    "\n",
    "An important *escape sequence* is to escape a single-quote (') or double-quote (\"). Imagine you have string that uses a double-quote and you want to put a double-quote inside the string. If you write \"I \"understand\" Joe.\" then Python will get confused because it will think the double-quotes around \"understand\" actuallly end the string. You need a way to tell Python that the double-quote inside the string *isn't a real* double-quote.\n",
    "\n",
    "To solve this problem you *escape* double-quotes so Python knows to include them in the string. Here's an eample:\n",
    "\n",
    "\"I am 6'2\\\" tall.\" # escape double-quote inside string\n",
    "'I am 6\\'2\" tall.' # escape single-quote inside string\n",
    "\n",
    "The second way is by triple-quotes, which is just \"\"\" and works like a string, but you also can put as many lines of text as you want until you type \"\"\" again. We'll also play with these. "
   ]
  },
  {
   "cell_type": "code",
   "execution_count": 1,
   "id": "fe63c0a3",
   "metadata": {},
   "outputs": [
    {
     "name": "stdout",
     "output_type": "stream",
     "text": [
      "\tI'm tabbed in.\n",
      "I'm split\n",
      "on an line.\n",
      "I'm \\ a \\ cat.\n",
      "\n",
      "I'll do a list:\n",
      "\t* Cat food\n",
      "\t* Fishes\n",
      "\t* Catnip\n",
      "\t* Grass\n",
      "\n"
     ]
    }
   ],
   "source": [
    "tabby_cat = \"\\tI'm tabbed in.\"\n",
    "persian_cat = \"I'm split\\non an line.\"\n",
    "backslash_cat = \"I'm \\\\ a \\\\ cat.\"\n",
    "\n",
    "fat_cat = \"\"\"\n",
    "I'll do a list:\n",
    "\\t* Cat food\n",
    "\\t* Fishes\n",
    "\\t* Catnip\\n\\t* Grass\n",
    "\"\"\"\n",
    "\n",
    "print(tabby_cat)\n",
    "print(persian_cat)\n",
    "print(backslash_cat)\n",
    "print(fat_cat)"
   ]
  },
  {
   "cell_type": "markdown",
   "id": "a606b9af",
   "metadata": {},
   "source": [
    "## ESCAPE SEQUENCES\n",
    "\n",
    "This is all of the escape sequences Python supports. You may not use many of these, but memorize their format and what they do anyway. Try them out in some strings to see if you can make them work.\n",
    "\n",
    "|Escpae    |What it does                                                |\n",
    "|:---------|:-----------------------------------------------------------|\n",
    "|\\\\        |Backslash (\\)                                               |\n",
    "|\\'        |Single-quote (')                                            |\n",
    "|\\\"        |Double-quote (\")                                            |\n",
    "|\\a        |ASCII bell (BEL)                                            |\n",
    "|\\b        |ASCII backspace (BS)                                        |\n",
    "|\\f        |ASCII formfeed (FF)                                         |\n",
    "|\\n        |ASCXII linefeed (LF)                                        |\n",
    "|\\N(name)  |Character names name in the Unicode database (Unicode only) |\n",
    "|\\r        |Carriage return (CR)                                        |\n",
    "|\\t        |Horizontal Tab (TAB)                                        |\n",
    "|\\uxxxx    |Character with 16-bit hex value xxxx                        |\n",
    "|\\Uxxxxxxxx|Character with 32-bit hex value xxxxxxxx                    |\n",
    "|\\v        |ASCII vertical tab (VT)                                     |\n",
    "|\\ooo      |Character with octal value ooo                              |\n",
    "|\\xhh      |Character with hex value hh                                 |"
   ]
  },
  {
   "cell_type": "markdown",
   "id": "2dfad676",
   "metadata": {},
   "source": [
    "## STUDY DRILLS\n",
    "\n",
    "1. Memorize all the escape sequences by putting them on flash cards.\n",
    "2. Use ''' (tripe-single-quotes) instead. Can you see why you might use that instead of \"\"\"?\n",
    "3. Combine escape sequences and format strings to create a more complex format."
   ]
  },
  {
   "cell_type": "markdown",
   "id": "8e533305",
   "metadata": {},
   "source": [
    "## COMMON STUDENT QUESTIONS\n",
    "\n",
    "**I still haven't completely figured out this last exercise. Should I continue?** Yes, keep going. Instead of stopping, take notes listing things you don't understand for each exercise. Periodically go rhtough you notes and see if you can figure these things out after you've completed more exercsies. Sometimes, though, you may need to go back a few exercises and do them again.\n",
    "\n",
    "**What makes \\\\ spacial compared to the other ones?** it's simply the way you would write out one backslash (\\) character. Think about why you need this.\n",
    "\n",
    "**When I write // or /n it doesn't work.** That's is because you are using a forward-slash (/) and not a backslash (\\). They are different characters that do very different things.\n",
    "\n",
    "**I don't get Study Drill 3. What do you mean by \"combine\" escape sequences and formats?** One concept I need you to understand is that each of these exercises can be combined to solve problems. Take what you know about format strings and write some new code that uses format strings and the escape sequences from this exercise.\n",
    "\n",
    "**What's better, ''' or \"\"\"?** It's entirely based on style. Go with the ''' (tripe-single-quote) style for now, but the ready to use either depending on what feels best or what everyone else is doing."
   ]
  }
 ],
 "metadata": {
  "kernelspec": {
   "display_name": "Python 3 (ipykernel)",
   "language": "python",
   "name": "python3"
  },
  "language_info": {
   "codemirror_mode": {
    "name": "ipython",
    "version": 3
   },
   "file_extension": ".py",
   "mimetype": "text/x-python",
   "name": "python",
   "nbconvert_exporter": "python",
   "pygments_lexer": "ipython3",
   "version": "3.9.7"
  }
 },
 "nbformat": 4,
 "nbformat_minor": 5
}
