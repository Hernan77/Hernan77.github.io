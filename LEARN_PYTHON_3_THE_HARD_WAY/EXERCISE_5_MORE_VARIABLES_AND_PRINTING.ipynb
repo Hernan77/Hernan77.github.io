{
 "cells": [
  {
   "cell_type": "markdown",
   "id": "baa0d59a",
   "metadata": {},
   "source": [
    "# LEARN PYTHON 3 THE HARD WAY: A VERY SIMPLE INTRODUTION TO THE TERRYFYING BEAUTIFUL WORLD OF COMPUTERS AND CODE\n",
    "\n",
    "HERNAN CARLOS CHAVEZ PAURA - JAN 3, 2023<br>\n",
    "Ref. Shaw, Zed A. \"Learn python the hard way.\" (2017)."
   ]
  },
  {
   "cell_type": "markdown",
   "id": "faf50f71",
   "metadata": {},
   "source": [
    "## EXERCISE 5\n",
    "\n",
    "## MORE VARIABLES AND PRINTING\n",
    "\n",
    "Now we'll do even more typing of variables and printing them out. This time we'll use something called *format string*. Every time you put \" (double-quotes) around a piece of text you have been making a *string*. A string is how you make something that your program might give to a human. You print strings, save strings to files, send strings to web servers, among other things.\n",
    "\n",
    "Strings are really handy, so in this exercise you will learn how to make strings that have variables embedded in them. You embed variables inside a string by uysing a special {} sequence and then put the variable you want inside the {} characters. You must also start the string with the letter f for \"format\", as in f\"Hello {somevar}\". This little f before the \" (double-quote) and the {} characters tell Python 3, \"Hey, this string needs to be formated. Put these variables in there.\"\n",
    "\n",
    "As usual, just ype this in even if you don't understand it, and make it exactly the same."
   ]
  },
  {
   "cell_type": "code",
   "execution_count": 1,
   "id": "24af556c",
   "metadata": {},
   "outputs": [
    {
     "name": "stdout",
     "output_type": "stream",
     "text": [
      "Let's talk about Zed A. Shaw.\n",
      "He's 74 inches tall.\n",
      "He's 180 pounds heavy.\n",
      "Actually that's not too heavy.\n",
      "He's got Blue eyes and Brown hair.\n",
      "He's teeth are usually White depending on the coffee.\n",
      "If I add 35, 74, and 180 I get 289.\n"
     ]
    }
   ],
   "source": [
    "my_name = 'Zed A. Shaw'\n",
    "my_age = 35 # not a lie\n",
    "my_height = 74 # inches\n",
    "my_weight = 180 # lbs\n",
    "my_eyes = 'Blue'\n",
    "my_teeth = 'White'\n",
    "my_hair = 'Brown'\n",
    "\n",
    "print(f\"Let's talk about {my_name}.\")\n",
    "print(f\"He's {my_height} inches tall.\")\n",
    "print(f\"He's {my_weight} pounds heavy.\")\n",
    "print(f\"Actually that's not too heavy.\")\n",
    "print(f\"He's got {my_eyes} eyes and {my_hair} hair.\")\n",
    "print(f\"He's teeth are usually {my_teeth} depending on the coffee.\")\n",
    "\n",
    "# this line is tricky, try toi get it exactly right\n",
    "total = my_age + my_height + my_weight\n",
    "print(f\"If I add {my_age}, {my_height}, and {my_weight} I get {total}.\")"
   ]
  },
  {
   "cell_type": "markdown",
   "id": "bfe1e87f",
   "metadata": {},
   "source": [
    "## STUDY DRILLS\n",
    "\n",
    "1. Change all the variables so there is no my_ in front of each. make sure you change the name everywhere, not just where you used = to set them.\n",
    "2. Try to write some variables that convert the inches and pounds to centimeters and kilograms. Do not just type the measurements. Work the math in Python."
   ]
  },
  {
   "cell_type": "markdown",
   "id": "02682d66",
   "metadata": {},
   "source": [
    "## COMMON STUDENT QUESTIONS\n",
    "\n",
    "**Can I make a variable like this: 1 = 'Zed Shaw'?** No, 1 is not a valid variable name. They need to start with a character, so a1 would work, but 1 will not.\n",
    "\n",
    "**How can I round a floating point number?** You can use the round() function like this round(1.7333).\n",
    "\n",
    "**Why does this not make sense to me?** Try making the numbers in this script yopur measurements. It's weird, but talking about yourself will make it seem more real. Also, you're just starting out so it won't make too much sense. Keep going and more exercises will explain it more."
   ]
  }
 ],
 "metadata": {
  "kernelspec": {
   "display_name": "Python 3 (ipykernel)",
   "language": "python",
   "name": "python3"
  },
  "language_info": {
   "codemirror_mode": {
    "name": "ipython",
    "version": 3
   },
   "file_extension": ".py",
   "mimetype": "text/x-python",
   "name": "python",
   "nbconvert_exporter": "python",
   "pygments_lexer": "ipython3",
   "version": "3.9.7"
  }
 },
 "nbformat": 4,
 "nbformat_minor": 5
}
