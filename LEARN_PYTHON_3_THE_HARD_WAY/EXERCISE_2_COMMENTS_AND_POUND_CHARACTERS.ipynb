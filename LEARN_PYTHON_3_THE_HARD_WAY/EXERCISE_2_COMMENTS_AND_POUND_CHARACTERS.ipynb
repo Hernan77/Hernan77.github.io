{
 "cells": [
  {
   "cell_type": "markdown",
   "id": "6f93e3ca",
   "metadata": {},
   "source": [
    "# LEARN PYTHON 3 THE HARD WAY: A VERY SIMPLE INTRODUTION TO THE TERRYFYING BEAUTIFUL WORLD OF COMPUTERS AND CODE\n",
    "\n",
    "HERNAN CARLOS CHAVEZ PAURA - JAN 3, 2023<br>\n",
    "Ref. Shaw, Zed A. \"Learn python the hard way.\" (2017).\n",
    "\n",
    "## EXERCISE 2"
   ]
  },
  {
   "cell_type": "markdown",
   "id": "90de6d9a",
   "metadata": {},
   "source": [
    "## COMMENTS AND POUND CHARACTERS\n",
    "\n",
    "Comments are very important to your programs. They are used to tell you what something does in English, and they are used to disable parts of your program if you need to remove them temporarily. Here's how you use comments in Pyhton:"
   ]
  },
  {
   "cell_type": "code",
   "execution_count": 3,
   "id": "d949b87a",
   "metadata": {},
   "outputs": [
    {
     "name": "stdout",
     "output_type": "stream",
     "text": [
      "I could have coded like this.\n",
      "This will run.\n"
     ]
    }
   ],
   "source": [
    "# A comment, this is so you can read your program later.\n",
    "# Anything aftyer the # is ignored by python.\n",
    "\n",
    "print(\"I could have coded like this.\") # and the comment after is ignored\n",
    "\n",
    "# You can also use a comment to \"disable\" or comment out code:\n",
    "# print(\"This won't tun.\")\n",
    "\n",
    "print(\"This will run.\")"
   ]
  },
  {
   "cell_type": "markdown",
   "id": "0596d320",
   "metadata": {},
   "source": [
    "From now on, I'm going to write code like this. It is important for you to understand that everything does not have to be literal. Your screen and program may look different, but what's important is the text you type into the file you're writing in your text editor. In fact, I could work with any text editor and the results would be the same."
   ]
  },
  {
   "cell_type": "markdown",
   "id": "9d2b8392",
   "metadata": {},
   "source": [
    "## STUDY DRILLS\n",
    "\n",
    "1. Find out if you were right about what the # character does and make sure you know what it's called (octothorpe or pound character)\n",
    "\n",
    "2. Take the above exercise and review each line going backward. Start with the last line, and check each word in reverse against what you should have type.\n",
    "\n",
    "3. Did you find more mistakes? Fix them\n",
    "\n",
    "4. Read what you typed above out loud, including saying each character by its name. Did you find more mistakes? Fix them"
   ]
  },
  {
   "cell_type": "markdown",
   "id": "7422de9e",
   "metadata": {},
   "source": [
    "## COMMON STUDENT QUESTIONS\n",
    "\n",
    "**Are you sure # is called the pound character?** I call it the octothorpe because that is the only name that no one country uses and that works in every country. Every country thinks its name for this one character is both the most important way to do it and the only way it's done. To me this is simply arrogance and, really, y'all should just chill out and focus on more important things like learning to code.\n",
    "\n",
    "**What does # in print(\"hi # there.\") not get ignored?** THe # in that code is inside a string, so it will be put into the string until the ending \" character is hit. Pound character in strings are just considered characters, not comments.\n",
    "\n",
    "**How do I comment out multiple lines?** Put a # in front of each one.\n",
    "\n",
    "**I can't figure out how to type a # character on my country's keyboard. How do I do that?** Some countries use the ALT key and combinations of other keys to print characters foreign to their language. You'll have to look online in a search engine to see hpow to type it.\n",
    "\n",
    "**Why do I have to read code backward?** It's a trick to make your brain not attach meaning to each part of the code, and doing that makes you process each piece exactly. This is a handy error-checking technique. "
   ]
  }
 ],
 "metadata": {
  "kernelspec": {
   "display_name": "Python 3 (ipykernel)",
   "language": "python",
   "name": "python3"
  },
  "language_info": {
   "codemirror_mode": {
    "name": "ipython",
    "version": 3
   },
   "file_extension": ".py",
   "mimetype": "text/x-python",
   "name": "python",
   "nbconvert_exporter": "python",
   "pygments_lexer": "ipython3",
   "version": "3.9.7"
  }
 },
 "nbformat": 4,
 "nbformat_minor": 5
}
