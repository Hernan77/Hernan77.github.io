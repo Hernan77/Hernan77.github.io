{
 "cells": [
  {
   "cell_type": "markdown",
   "id": "3473c747",
   "metadata": {},
   "source": [
    "# LEARN PYTHON 3 THE HARD WAY: A VERY SIMPLE INTRODUTION TO THE TERRYFYING BEAUTIFUL WORLD OF COMPUTERS AND CODE\n",
    "\n",
    "HERNAN CARLOS CHAVEZ PAURA - JAN 3, 2023<br>\n",
    "Ref. Shaw, Zed A. \"Learn python the hard way.\" (2017)."
   ]
  },
  {
   "cell_type": "markdown",
   "id": "5c01a4de",
   "metadata": {},
   "source": [
    "## EXERCISE 3\n",
    "\n",
    "## NUMBERS AND MATH\n",
    "\n",
    "Every programming language has some kind of way of doing number and math. Do not worry: programmers frequently lie about being math geniuses when they really aren't. If they were math geniuses, they would be doing math, not writing buggy web frameworks so they can drive race cars.\n",
    "\n",
    "This exercise has lots of math symbols. Let's name them right away so you knoiw what they are called. As you type this one in, say the name. When saying them feels boring you can stop saying them. Here are the names:\n",
    "\n",
    "* +: plus\n",
    "* -: minus\n",
    "* /: slash\n",
    "* \\*: asterisk\n",
    "* %: percent\n",
    "* <: less-than\n",
    "* \\>: greater-than\n",
    "* <=: less-than-equal\n",
    "* \\>=: greater-than-equal\n",
    "\n",
    "Notice hoe the operations are missing? After you type in the code for this exercise, go back and figure out what each of these does and comnplete the table. For example, + does addition."
   ]
  },
  {
   "cell_type": "code",
   "execution_count": 1,
   "id": "95ff75bd",
   "metadata": {},
   "outputs": [
    {
     "name": "stdout",
     "output_type": "stream",
     "text": [
      "I will now count my chickens:\n",
      "Hens 30.0\n",
      "Roosters 97\n",
      "Now I will count the eggs:\n",
      "6.75\n",
      "Is it true that 3 + 2 < 5 - 7?\n",
      "False\n",
      "What is 3 + 2? 5\n",
      "What is 5 - 7? -2\n",
      "Oh, that's why it's false.\n",
      "How about some more.\n",
      "Is greater? True\n",
      "Is greater or equal? True\n",
      "Is it less or equal? False\n"
     ]
    }
   ],
   "source": [
    "print(\"I will now count my chickens:\")\n",
    "\n",
    "print(\"Hens\", 25 + 30 / 6)\n",
    "print(\"Roosters\", 100 - 25 * 3 % 4)\n",
    "\n",
    "print(\"Now I will count the eggs:\")\n",
    "\n",
    "print(3 + 2 + 1 - 5 + 4 % 2 - 1 / 4 + 6)\n",
    "\n",
    "print(\"Is it true that 3 + 2 < 5 - 7?\")\n",
    "\n",
    "print(3 + 2 < 5 - 7)\n",
    "\n",
    "print(\"What is 3 + 2?\", 3 + 2)\n",
    "print(\"What is 5 - 7?\", 5 - 7)\n",
    "\n",
    "print(\"Oh, that's why it's false.\")\n",
    "\n",
    "print(\"How about some more.\")\n",
    "\n",
    "print(\"Is greater?\", 5 > -2)\n",
    "print(\"Is greater or equal?\", 5 >= -2)\n",
    "print(\"Is it less or equal?\", 5 <= -2)"
   ]
  },
  {
   "cell_type": "markdown",
   "id": "32ddaeaf",
   "metadata": {},
   "source": [
    "Make sure you type this exactly before you run it. Compare each line of your file to my file."
   ]
  },
  {
   "cell_type": "markdown",
   "id": "9b581d02",
   "metadata": {},
   "source": [
    "## STUDY DRILLS\n",
    "\n",
    "1. Above each line, use the # to write a comment to youself explaining what the line does.\n",
    "\n",
    "2. Find somethiung you need to claculate and write a new .py file that does it.\n",
    "\n",
    "3. Rewrite this exercise to use floating point numbers so it's more accurate. 20.0 is a floating point."
   ]
  },
  {
   "cell_type": "markdown",
   "id": "5289b146",
   "metadata": {},
   "source": [
    "## COMMON STUDENT QUESTIONS\n",
    "\n",
    "**Why is the % character a \"modulus\" and not a \"percent\"?** Mostly that's just how the designers chose to use that symbol. In normal writing you are correct to read it as a \"percent\". In programming this calculation is typically done with a simple division and the / operator. The % modulud is a different operation that just happens to use the % symbol.\n",
    "\n",
    "**How does % work?** Another way to say it is, \"X divided by Y with J remaining.\" For example, \"100 divided by 16 with 4 remaining.\" The result of % is the J part, or the remaining part.\n",
    "\n",
    "**What is the order of operations?** In the United States we use an acronym called PEMDAS which stands for Parentheses Exponents Multiplication Division Addition Subtraction. That's the order, as in \"Do P, then E, then M, then D, then A, then S.\" The actual order is you do the multiplication and division (M&D) in one step, from left to right, then you do the addition and subtraction in one step from left to right. So you could rewrite PEMDAS as PE(M&D)(A&S)."
   ]
  }
 ],
 "metadata": {
  "kernelspec": {
   "display_name": "Python 3 (ipykernel)",
   "language": "python",
   "name": "python3"
  },
  "language_info": {
   "codemirror_mode": {
    "name": "ipython",
    "version": 3
   },
   "file_extension": ".py",
   "mimetype": "text/x-python",
   "name": "python",
   "nbconvert_exporter": "python",
   "pygments_lexer": "ipython3",
   "version": "3.9.7"
  }
 },
 "nbformat": 4,
 "nbformat_minor": 5
}
