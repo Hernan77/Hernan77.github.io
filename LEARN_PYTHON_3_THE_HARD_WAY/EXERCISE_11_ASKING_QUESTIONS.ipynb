{
 "cells": [
  {
   "cell_type": "markdown",
   "id": "d8b3a880",
   "metadata": {},
   "source": [
    "# LEARN PYTHON 3 THE HARD WAY: A VERY SIMPLE INTRODUTION TO THE TERRYFYING BEAUTIFUL WORLD OF COMPUTERS AND CODE\n",
    "\n",
    "HERNAN CARLOS CHAVEZ PAURA - JAN 3, 2023<br>\n",
    "Ref. Shaw, Zed A. \"Learn python the hard way.\" (2017)."
   ]
  },
  {
   "cell_type": "markdown",
   "id": "519b74e8",
   "metadata": {},
   "source": [
    "## EXERCISE 11\n",
    "\n",
    "## ASKING QUESTIONS\n",
    "\n",
    "Now it is time to pick up the pace. You are doing a lot of printing to get you familiar with typing simple things, but those simple things are failry boring. What we want to do now is get data into your programs. This is a little bit tricky because you have to learn to do two things that may not make sense right away, but trsut me and do it anyway. It will make sense in a few exercises.\n",
    "\n",
    "Most of what software does is the the following:\n",
    "\n",
    "1. Take some kind of input from a person.\n",
    "2. Changes it.\n",
    "3. Prints out something to show how it changed.\n",
    "\n",
    "So far you have been printing strings, but you haven't been able to get any input from a person. You may not even know what \"input\" means, but type this code in anyway and make it exactly the same. In the next exercise we'll do more to explain input."
   ]
  },
  {
   "cell_type": "code",
   "execution_count": 1,
   "id": "15fbfbae",
   "metadata": {},
   "outputs": [
    {
     "name": "stdout",
     "output_type": "stream",
     "text": [
      "How old are you? 44\n",
      "How tall are you? 5'11\"\n",
      "How much do you weight? 180\n",
      "So, you're 44 old, 5'11\" tall and 180 heavy.\n"
     ]
    }
   ],
   "source": [
    "print(\"How old are you?\", end=' ')\n",
    "age = input()\n",
    "print(\"How tall are you?\", end=' ')\n",
    "height = input()\n",
    "print(\"How much do you weight?\", end=' ')\n",
    "weight = input()\n",
    "\n",
    "print(f\"So, you're {age} old, {height} tall and {weight} heavy.\")"
   ]
  },
  {
   "cell_type": "markdown",
   "id": "bfa53abd",
   "metadata": {},
   "source": [
    "**WARNING!** We put end=' ' at the end of each print line. This tells print to not end the line with a newline character and go to the next line."
   ]
  },
  {
   "cell_type": "markdown",
   "id": "c6f68ec2",
   "metadata": {},
   "source": [
    "## STUDY DRILLS\n",
    "\n",
    "1. Go online and find out what Python's input does.\n",
    "2. Can you find other ways to use it? Try some of the sample you find.\n",
    "3. Write another \"form\" like this to ask someone other questions."
   ]
  },
  {
   "cell_type": "markdown",
   "id": "17503a35",
   "metadata": {},
   "source": [
    "## COMMON STUDENT QUESTIONS\n",
    "\n",
    "**How do I get a number from someone so I can do math?** That is a little advanced, but try x = int(input()), which get the number as a string from input(), then converts it to an integer using int().\n",
    "\n",
    "**I put my height into raw input like this input(\"6'2) but it doesn't work.** Don't put you height in there; type it directly to the Terminal. First, go back and make the code exactly like mine. Next, run the script, and when it pauses, type your height in your keyboard. That's all there is to it. "
   ]
  }
 ],
 "metadata": {
  "kernelspec": {
   "display_name": "Python 3 (ipykernel)",
   "language": "python",
   "name": "python3"
  },
  "language_info": {
   "codemirror_mode": {
    "name": "ipython",
    "version": 3
   },
   "file_extension": ".py",
   "mimetype": "text/x-python",
   "name": "python",
   "nbconvert_exporter": "python",
   "pygments_lexer": "ipython3",
   "version": "3.9.7"
  }
 },
 "nbformat": 4,
 "nbformat_minor": 5
}
