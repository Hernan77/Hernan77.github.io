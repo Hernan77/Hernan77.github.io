{
 "cells": [
  {
   "cell_type": "markdown",
   "id": "fbbd3339",
   "metadata": {},
   "source": [
    "<img src=\"Images/Introduction_to_Large_Scale_Data_Analytics_1.JPG\" style=\"float: right; margin-left: 15px;\" />\n",
    "<img src=\"Images/Introduction_to_Large_Scale_Data_Analytics_2.JPG\" style=\"float: right; margin-left: 15px;\" />\n",
    "<img src=\"Images/Introduction_to_Large_Scale_Data_Analytics_3.JPG\" style=\"float: right; margin-left: 15px;\" />\n",
    "<img src=\"Images/Introduction_to_Large_Scale_Data_Analytics_4.JPG\" style=\"float: right; margin-left: 15px;\" />\n",
    "<img src=\"Images/Introduction_to_Large_Scale_Data_Analytics_5.JPG\" style=\"float: right; margin-left: 15px;\" />\n",
    "<img src=\"Images/Introduction_to_Large_Scale_Data_Analytics_6.JPG\" style=\"float: right; margin-left: 15px;\" />\n",
    "<img src=\"Images/Introduction_to_Large_Scale_Data_Analytics_7.JPG\" style=\"float: right; margin-left: 15px;\" />\n",
    "<img src=\"Images/Introduction_to_Large_Scale_Data_Analytics_8.JPG\" style=\"float: right; margin-left: 15px;\" />\n",
    "<img src=\"Images/Introduction_to_Large_Scale_Data_Analytics_9.JPG\" style=\"float: right; margin-left: 15px;\" />\n",
    "<img src=\"Images/Introduction_to_Large_Scale_Data_Analytics_10.JPG\" style=\"float: right; margin-left: 15px;\" />\n",
    "<img src=\"Images/Introduction_to_Large_Scale_Data_Analytics_11.JPG\" style=\"float: right; margin-left: 15px;\" />\n",
    "<img src=\"Images/Introduction_to_Large_Scale_Data_Analytics_12.JPG\" style=\"float: right; margin-left: 15px;\" />\n",
    "<img src=\"Images/Introduction_to_Large_Scale_Data_Analytics_13.JPG\" style=\"float: right; margin-left: 15px;\" />\n",
    "<img src=\"Images/Introduction_to_Large_Scale_Data_Analytics_14.JPG\" style=\"float: right; margin-left: 15px;\" />\n",
    "<img src=\"Images/Introduction_to_Large_Scale_Data_Analytics_15.JPG\" style=\"float: right; margin-left: 15px;\" />\n",
    "<img src=\"Images/Introduction_to_Large_Scale_Data_Analytics_16.JPG\" style=\"float: right; margin-left: 15px;\" />\n",
    "<img src=\"Images/Introduction_to_Large_Scale_Data_Analytics_17.JPG\" style=\"float: right; margin-left: 15px;\" />\n",
    "<img src=\"Images/Introduction_to_Large_Scale_Data_Analytics_18.JPG\" style=\"float: right; margin-left: 15px;\" />\n",
    "<img src=\"Images/Introduction_to_Large_Scale_Data_Analytics_19.JPG\" style=\"float: right; margin-left: 15px;\" />\n",
    "<img src=\"Images/Introduction_to_Large_Scale_Data_Analytics_20.JPG\" style=\"float: right; margin-left: 15px;\" />"
   ]
  }
 ],
 "metadata": {
  "kernelspec": {
   "display_name": "Python 3 (ipykernel)",
   "language": "python",
   "name": "python3"
  },
  "language_info": {
   "codemirror_mode": {
    "name": "ipython",
    "version": 3
   },
   "file_extension": ".py",
   "mimetype": "text/x-python",
   "name": "python",
   "nbconvert_exporter": "python",
   "pygments_lexer": "ipython3",
   "version": "3.9.7"
  }
 },
 "nbformat": 4,
 "nbformat_minor": 5
}
