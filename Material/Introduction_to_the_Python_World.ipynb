{
 "cells": [
  {
   "cell_type": "markdown",
   "id": "ded59b41",
   "metadata": {},
   "source": [
    "# Chapter Two: Introduction to the Python World\n",
    "**Fabio Nelli**\n",
    "\n",
    "**Hernan Chavez 1/7/2021**\n",
    "\n",
    "**Book Blurb<br/>\n",
    "Nelli, F. \"Python Data Analytics: With Pandas.\" NumPy, and Matplotlib, Rome, Italy: Apress Media LLC (2018).**\n",
    "\n",
    "## Python-The Programming Language\n",
    "Python-The Programming Language<br/>\n",
    "Nelli, F. \"Python Data Analytics: With Pandas.\" NumPy, and Matplotlib, Rome, Italy: Apress Media LLC (2018).\n",
    "\n",
    "## Python-The Interpreter\n",
    "Python-The Interpreter<br/>\n",
    "Nelli, F. \"Python Data Analytics: With Pandas.\" NumPy, and Matplotlib, Rome, Italy: Apress Media LLC (2018).\n",
    "\n",
    "### Cython\n",
    "Python-The Interpreter > Cython<br/>\n",
    "Nelli, F. \"Python Data Analytics: With Pandas.\" NumPy, and Matplotlib, Rome, Italy: Apress Media LLC (2018).\n",
    "\n",
    "### Jython\n",
    "Python-The Interpreter > Jython<br/>\n",
    "Nelli, F. \"Python Data Analytics: With Pandas.\" NumPy, and Matplotlib, Rome, Italy: Apress Media LLC (2018).\n",
    "\n",
    "### PyPy\n",
    "Python-The Interpreter > PyPy<br/>\n",
    "Nelli, F. \"Python Data Analytics: With Pandas.\" NumPy, and Matplotlib, Rome, Italy: Apress Media LLC (2018).\n",
    "\n",
    "## Python 2 and Python 3\n",
    "Python 2 and Python 3<br/>\n",
    "Nelli, F. \"Python Data Analytics: With Pandas.\" NumPy, and Matplotlib, Rome, Italy: Apress Media LLC (2018).\n",
    "\n",
    "### Installing Python\n",
    "Python 2 and Python 3 > Installing Python<br/>\n",
    "Nelli, F. \"Python Data Analytics: With Pandas.\" NumPy, and Matplotlib, Rome, Italy: Apress Media LLC (2018).\n",
    "\n",
    "In order to develop programs in Python you have to install it on your operating system. Linux distributions and MacOS X machines should already have preinstalled version of Python. If not, or if you would like to replace that version with another, you can easily install it. The installation of Python differs from operating system to operating system; however, it is a rather simple operation.\n",
    "\n",
    "On Debian-Ubuntu Linux systems, run this command\n",
    "\n",
    "*apt-aget install python*\n",
    "\n",
    "On Red Hat Fedora Linux systems working with *rpm* packages, run this command\n",
    "\n",
    "*yum install python*\n",
    "\n",
    "If you are running Windows or MacOS X, you can go to the official Python site (https://www.python.org/) and download the version you prefer. The packages in this case are installed automatically.\n",
    "\n",
    "However, today there are distributions that provide a number of tools that make the management and installation of Python, all libraries, and associated applications easier. I strongly recommend you choose one of the distributions available online.\n",
    "\n",
    "## Python Distributions\n",
    "Python Distributions<br/>\n",
    "Nelli, F. \"Python Data Analytics: With Pandas.\" NumPy, and Matplotlib, Rome, Italy: Apress Media LLC (2018).\n",
    "\n",
    "### Anaconda\n",
    "Python Distributions > Anaconda<br/>\n",
    "Nelli, F. \"Python Data Analytics: With Pandas.\" NumPy, and Matplotlib, Rome, Italy: Apress Media LLC (2018).\n",
    "\n",
    "Anaconda is a free distribution of Python packages distributed by Continuum Analytics (https://www.anaconda.com/). This distribution supports Linux, Windows, and MacOS X operating systems. Anaconda, in addition to providing the latest packages released in the Python world, comes bundled with most of the tools you need to set up a Python development environment.\n",
    "\n",
    "Indeed, when you install the Anaconda distribution on your system, you can use many tools and applications described in this chapter, without worrying about having to install and manage each separately. The basic distribution includes Spyder as the IDe, IPython QtConsole, and Notebook.\n",
    "\n",
    "The management of the entire Anaconda distribution is perfromed by an application called *conda* This is the package manager and the environment manager of the Anaconda distribution and it handles all of the packages and their versions.\n",
    "\n",
    "*conda install <package_name\\>*\n",
    "\n",
    "One of the most interesting aspects of this distribution is the ability to manage multiple development environments, each with its own version of Python/ Indeed, when you install Anaconda, the Python version 2.7 is installed by default. All installed packages then will refer to that version. This is not a problem, because Anaconda offers the possibility to work simulatenously and independently with other Python versions by creating a new environment. You can create, for instance, an environment based on Python 3.6.\n",
    "\n",
    "*conda create -n py36 python=3.6 anaconda*\n",
    "\n",
    "This will generate a new Anaconda enviroment with all the packages related to the Python 3.6 version. This installation will not affect in any way the environment built with Python 2.7. Once it's installed, you can activate the new environment by entering the following command.\n",
    "\n",
    "*source activate py36*\n",
    "\n",
    "On Windows, use this instead:\n",
    "\n",
    "*activate py36*\n",
    "\n",
    "*C:\\Users\\Hernan>activate py36<br/>\n",
    "(py36) C:\\Users\\Hernan>*\n",
    "\n",
    "You can create as many versions of Python as you want; you need only to change the parameter passed with the python option in the conda *create* command. When you want to return to work with the original Python version, you have to use the following command:\n",
    "\n",
    "*source deactivate*\n",
    "\n",
    "On Windows, use this:\n",
    "\n",
    "*(py36) C:\\Users\\Hernan>deactivate<br/>\n",
    "Deactivating environment \"py36\"...<br/>\n",
    "C:\\Users\\Hernan>*\n",
    "\n",
    "### Enthought Canopy\n",
    "Python Distributions > Enthought Canopy<br/>\n",
    "Nelli, F. \"Python Data Analytics: With Pandas.\" NumPy, and Matplotlib, Rome, Italy: Apress Media LLC (2018).\n",
    "\n",
    "### Python(x,y)\n",
    "Python Distributions > Python(x,y)<br/>\n",
    "Nelli, F. \"Python Data Analytics: With Pandas.\" NumPy, and Matplotlib, Rome, Italy: Apress Media LLC (2018).\n",
    "\n",
    "## Using Python\n",
    "Using Python<br/>\n",
    "Nelli, F. \"Python Data Analytics: With Pandas.\" NumPy, and Matplotlib, Rome, Italy: Apress Media LLC (2018).\n",
    "\n",
    "### Python Shell\n",
    "Using Python > Python Shell<br/>\n",
    "Nelli, F. \"Python Data Analytics: With Pandas.\" NumPy, and Matplotlib, Rome, Italy: Apress Media LLC (2018).\n",
    "\n",
    "The asiest way to approach the Python world is to open a session in the Python shell, which is a terminal running a command line. In fact, you can enter one comma at a time and test its operation manually. This mode makes clear the nature of the interpreter that underlies Python. In fact, the interpreter can read one command at a time, keeping the status of the variables specificed in the previous lines, a behavior similar to that of MATLAB and other claculation software.\n",
    "\n",
    "This approach is helpful when apporaching Python the first time. You can test commands one at a time without having to write, edit, and run an entire program, which could be composed of many lines of code.\n",
    "\n",
    "This model is also good for testing and debugging Python code one line at a time, or simply to make calculations. To start a session on the terminal, simply type this con the command line:\n",
    "\n",
    "<img src=\"Figures/2_1.jpg\" alt=\"Python shell start\" width=\"900\" height=\"900\">   \n",
    "\n",
    "Now the Python shell is active and the interprete is ready to receive commands in Python. Start by entering the simplest of commands, but a classic for getting started with programming.\n",
    "\n",
    "<img src=\"Figures/2_2.jpg\" alt=\"Python shell print\" width=\"900\" height=\"900\">  \n",
    "\n",
    "### Run an Entire Program\n",
    "Using Python > Run an Entire Program<br/>\n",
    "Nelli, F. \"Python Data Analytics: With Pandas.\" NumPy, and Matplotlib, Rome, Italy: Apress Media LLC (2018).\n",
    "\n",
    "The best way to become familiar with Python is to erite an entire program and then run it from the terminal. First write a program using a simple text editor. For example, you can use the code shown in Listing 2-1 and save it as *MyFirstProgram.py*.\n",
    "\n",
    "*Listing 2-1. MyFirstProgram.py*\n",
    "\n",
    "<img src=\"Figures/2_3.jpg\" alt=\"MyFirstProgram.py\" width=\"600\" height=\"600\">  \n",
    "\n",
    "Now you've written your first program in Python, and you can runn it directly from the command line by calling the python command and then the name of the file containing the program code.\n",
    "\n",
    "<img src=\"Figures/2_4.jpg\" alt=\"MyFirstProgram.py run\" width=\"800\" height=\"800\"> \n",
    "\n",
    "### Implement the Code Using an IDE\n",
    "Using Python > Implement the Code Uisng an IDE<br/>\n",
    "Nelli, F. \"Python Data Analytics: With Pandas.\" NumPy, and Matplotlib, Rome, Italy: Apress Media LLC (2018).\n",
    "\n",
    "### Interact with Python\n",
    "Using Python > Interact with Python<br/>\n",
    "Nelli, F. \"Python Data Analytics: With Pandas.\" NumPy, and Matplotlib, Rome, Italy: Apress Media LLC (2018).\n",
    "\n",
    "## Writing Python Code\n",
    "Writing Python Code<br/>\n",
    "Nelli, F. \"Python Data Analytics: With Pandas.\" NumPy, and Matplotlib, Rome, Italy: Apress Media LLC (2018).\n",
    "\n",
    "### Make Calculation\n",
    "Writing Python Code > Make Calculations<br/>\n",
    "Nelli, F. \"Python Data Analytics: With Pandas.\" NumPy, and Matplotlib, Rome, Italy: Apress Media LLC (2018).\n",
    "\n",
    "You have already seen that the *print()* function is useful for printing almost anything. Python, in addition to being a printing tool, is also a great calculator. Start a session on Python shell and begin to perform these mathematical operations:"
   ]
  },
  {
   "cell_type": "code",
   "execution_count": 1,
   "id": "1bf2c071",
   "metadata": {},
   "outputs": [
    {
     "data": {
      "text/plain": [
       "3"
      ]
     },
     "execution_count": 1,
     "metadata": {},
     "output_type": "execute_result"
    }
   ],
   "source": [
    "1 + 2"
   ]
  },
  {
   "cell_type": "code",
   "execution_count": 2,
   "id": "c6c3c709",
   "metadata": {},
   "outputs": [
    {
     "data": {
      "text/plain": [
       "0.78375"
      ]
     },
     "execution_count": 2,
     "metadata": {},
     "output_type": "execute_result"
    }
   ],
   "source": [
    "(1.045 * 3)/4"
   ]
  },
  {
   "cell_type": "code",
   "execution_count": 3,
   "id": "2b756eaa",
   "metadata": {},
   "outputs": [
    {
     "data": {
      "text/plain": [
       "16"
      ]
     },
     "execution_count": 3,
     "metadata": {},
     "output_type": "execute_result"
    }
   ],
   "source": [
    "4 ** 2"
   ]
  },
  {
   "cell_type": "code",
   "execution_count": 4,
   "id": "e005c583",
   "metadata": {},
   "outputs": [
    {
     "data": {
      "text/plain": [
       "(-7+22j)"
      ]
     },
     "execution_count": 4,
     "metadata": {},
     "output_type": "execute_result"
    }
   ],
   "source": [
    "((4 + 5j) * (2 + 3j))"
   ]
  },
  {
   "cell_type": "code",
   "execution_count": 5,
   "id": "8733827a",
   "metadata": {},
   "outputs": [
    {
     "data": {
      "text/plain": [
       "True"
      ]
     },
     "execution_count": 5,
     "metadata": {},
     "output_type": "execute_result"
    }
   ],
   "source": [
    "4 < (2 * 3)"
   ]
  },
  {
   "cell_type": "markdown",
   "id": "6e878625",
   "metadata": {},
   "source": [
    "Python can calculate many types of data including complex numbers and conditions with Boolean values. As you can see from these calculations, Python interpreter directly returns the result if the calculations without the need to use the *print()* function. The same thing applies to values contained in variables. it's enough to call the variable to see its contents."
   ]
  },
  {
   "cell_type": "code",
   "execution_count": 6,
   "id": "18ad54d3",
   "metadata": {},
   "outputs": [
    {
     "data": {
      "text/plain": [
       "40.8"
      ]
     },
     "execution_count": 6,
     "metadata": {},
     "output_type": "execute_result"
    }
   ],
   "source": [
    "a = 12 * 3.4\n",
    "a"
   ]
  },
  {
   "cell_type": "markdown",
   "id": "c2a4403f",
   "metadata": {},
   "source": [
    "### Import New Libraries and Functions\n",
    "Writing Python Code > Import New Libraries and Functions<br/>\n",
    "Nelli, F. \"Python Data Analytics: With Pandas.\" NumPy, and Matplotlib, Rome, Italy: Apress Media LLC (2018).\n",
    "\n",
    "You saw that Python is characterized by the ability to extend its functionality by importing numerous packages and modules. To import a module in its entirety, you have to use the *import* command.  "
   ]
  },
  {
   "cell_type": "code",
   "execution_count": 7,
   "id": "0dadf4e1",
   "metadata": {},
   "outputs": [],
   "source": [
    "import math"
   ]
  },
  {
   "cell_type": "markdown",
   "id": "dc611e4c",
   "metadata": {},
   "source": [
    "In this way all the functions contained in the *math* package are available in your Python session so you can call them directly. Thus you have extended the standard set of functions available when you start a Python session. These functions are called with the following expression.\n",
    "\n",
    "*library_name.function_name()*\n",
    "\n",
    "For example, you can now calculate the sine of the value contained in the variable *a*."
   ]
  },
  {
   "cell_type": "code",
   "execution_count": 8,
   "id": "7daa00ff",
   "metadata": {},
   "outputs": [
    {
     "data": {
      "text/plain": [
       "0.040693257349864856"
      ]
     },
     "execution_count": 8,
     "metadata": {},
     "output_type": "execute_result"
    }
   ],
   "source": [
    "math.sin(a)"
   ]
  },
  {
   "cell_type": "markdown",
   "id": "e34e914b",
   "metadata": {},
   "source": [
    "As you can see, the function is called along with the name of the library. Sometimes you might find the following expression for declaring an import."
   ]
  },
  {
   "cell_type": "code",
   "execution_count": 9,
   "id": "46878a6f",
   "metadata": {},
   "outputs": [],
   "source": [
    "from math import *"
   ]
  },
  {
   "cell_type": "markdown",
   "id": "897ba9e4",
   "metadata": {},
   "source": [
    "Even if this works properly, it is to be avoided for good practice. In fact, writing an import in this way involves the importation of all functions without necessarily defining the libreary to which they belong."
   ]
  },
  {
   "cell_type": "code",
   "execution_count": 10,
   "id": "5747ce9a",
   "metadata": {},
   "outputs": [
    {
     "data": {
      "text/plain": [
       "0.040693257349864856"
      ]
     },
     "execution_count": 10,
     "metadata": {},
     "output_type": "execute_result"
    }
   ],
   "source": [
    "sin(a)"
   ]
  },
  {
   "cell_type": "markdown",
   "id": "8f8fbf17",
   "metadata": {},
   "source": [
    "This form of import can lead to very large errors, especially if the imported libraries are numerous. In fact, it is not unlikely that different libraries have functions with the same name, and importing all of these would result in an override of all functions with the same name previously imported. Therefore the behavior of the program could generate numerous errors or worse, abnormal behavior.\n",
    "\n",
    "Actually, this way to import is generally used for only a limited number of functions, that is, functions that are strictly necessary for the functioning of the program, thus avoiding the importation of an entire library when it is completely unecessary."
   ]
  },
  {
   "cell_type": "code",
   "execution_count": 11,
   "id": "b43af166",
   "metadata": {},
   "outputs": [],
   "source": [
    "from math import sin"
   ]
  },
  {
   "cell_type": "markdown",
   "id": "3575a7e5",
   "metadata": {},
   "source": [
    "### Data Structure\n",
    "Writing Python Code > Data Structure<br/>\n",
    "Nelli, F. \"Python Data Analytics: With Pandas.\" NumPy, and Matplotlib, Rome, Italy: Apress Media LLC (2018).\n",
    "\n",
    "You saw in the previous examples how to use simple variables containing a single value. Python provides a number of extremely useful data structure. These data structure are able to contain lots of data simulatenously and sometimes even data of different types.\n",
    "\n",
    "The various data structures provided are defined differently depending on how their data are structured internally.\n",
    "\n",
    "* List\n",
    "* Set\n",
    "* Strings\n",
    "* Tuples\n",
    "* Dictionary\n",
    "* Deque\n",
    "* Heap\n",
    "\n",
    "This is only a small part of all the data structures that can be made with Python. Among all these structures, the most commonly used are *dictionaries* and *lists*.\n",
    "\n",
    "The type *dictionary*, defined also as *dicts*, is a data structure in which each particular value is associated with a particular label, called a *key*. The data collected in a dictionary have no internal order but are only definitions of key/value pairs. "
   ]
  },
  {
   "cell_type": "code",
   "execution_count": 12,
   "id": "75723f33",
   "metadata": {},
   "outputs": [],
   "source": [
    "dict = {'name':'William', 'age':25, 'city':'London'}"
   ]
  },
  {
   "cell_type": "markdown",
   "id": "8dc9b39f",
   "metadata": {},
   "source": [
    "If you want to access a specific value within the dictionary, you have to indicate the name of the associated key."
   ]
  },
  {
   "cell_type": "code",
   "execution_count": 13,
   "id": "6d8583d0",
   "metadata": {},
   "outputs": [
    {
     "data": {
      "text/plain": [
       "'William'"
      ]
     },
     "execution_count": 13,
     "metadata": {},
     "output_type": "execute_result"
    }
   ],
   "source": [
    "dict['name']"
   ]
  },
  {
   "cell_type": "markdown",
   "id": "6f857ef3",
   "metadata": {},
   "source": [
    "If you want to iterate the pairs of values in a dictionary, you have to use the *for-in* construct. This is possible through the use of the *items()* function."
   ]
  },
  {
   "cell_type": "code",
   "execution_count": 14,
   "id": "4249d93c",
   "metadata": {},
   "outputs": [
    {
     "name": "stdout",
     "output_type": "stream",
     "text": [
      "name William\n",
      "age 25\n",
      "city London\n"
     ]
    }
   ],
   "source": [
    "for key, value in dict.items():\n",
    "    print(key,value)"
   ]
  },
  {
   "cell_type": "markdown",
   "id": "a51eaf86",
   "metadata": {},
   "source": [
    "The type *list* is a data structure that contains a number of objects in a precise order to form a sequence to which elements can be added and removed. Each item is marked with a number corresponding to the order of the sequence, called *index*."
   ]
  },
  {
   "cell_type": "code",
   "execution_count": 15,
   "id": "3a43aa10",
   "metadata": {},
   "outputs": [
    {
     "data": {
      "text/plain": [
       "[1, 2, 3, 4]"
      ]
     },
     "execution_count": 15,
     "metadata": {},
     "output_type": "execute_result"
    }
   ],
   "source": [
    "list = [1, 2, 3, 4]\n",
    "list"
   ]
  },
  {
   "cell_type": "markdown",
   "id": "4ca02e20",
   "metadata": {},
   "source": [
    "If you want to access the individual elements, it is sufficient to specify the index in square brackets (the first item in the list has 0 as its index), while if you take out a portion of the list (or a sequence), it is sufficient to specify the range with the indices i and j corresponding to the extremes of the portion."
   ]
  },
  {
   "cell_type": "code",
   "execution_count": 16,
   "id": "ff78b873",
   "metadata": {},
   "outputs": [
    {
     "data": {
      "text/plain": [
       "3"
      ]
     },
     "execution_count": 16,
     "metadata": {},
     "output_type": "execute_result"
    }
   ],
   "source": [
    "list[2]"
   ]
  },
  {
   "cell_type": "code",
   "execution_count": 17,
   "id": "ee7dee36",
   "metadata": {},
   "outputs": [
    {
     "data": {
      "text/plain": [
       "[2, 3]"
      ]
     },
     "execution_count": 17,
     "metadata": {},
     "output_type": "execute_result"
    }
   ],
   "source": [
    "list[1:3]"
   ]
  },
  {
   "cell_type": "markdown",
   "id": "aae580b1",
   "metadata": {},
   "source": [
    "If you are using a negative indices instead, this means you are considering the last in the list and gradually moving to the first."
   ]
  },
  {
   "cell_type": "code",
   "execution_count": 18,
   "id": "cdf635cf",
   "metadata": {},
   "outputs": [
    {
     "data": {
      "text/plain": [
       "4"
      ]
     },
     "execution_count": 18,
     "metadata": {},
     "output_type": "execute_result"
    }
   ],
   "source": [
    "list[-1]"
   ]
  },
  {
   "cell_type": "markdown",
   "id": "8095c9c1",
   "metadata": {},
   "source": [
    "In order to do a scan of the elements of a list, you can use the *for-in* construct."
   ]
  },
  {
   "cell_type": "code",
   "execution_count": 19,
   "id": "f2aa7aa4",
   "metadata": {},
   "outputs": [
    {
     "name": "stdout",
     "output_type": "stream",
     "text": [
      "2\n",
      "3\n",
      "4\n",
      "5\n",
      "6\n"
     ]
    }
   ],
   "source": [
    "items = [1, 2, 3, 4, 5]\n",
    "for item in items:\n",
    "    print(item + 1)"
   ]
  },
  {
   "cell_type": "markdown",
   "id": "5411b8a2",
   "metadata": {},
   "source": [
    "### Functional Programming\n",
    "Writing Python Code > Functional Programming<br/>\n",
    "Nelli, F. \"Python Data Analytics: With Pandas.\" NumPy, and Matplotlib, Rome, Italy: Apress Media LLC (2018).\n",
    "\n",
    "The *for-in* shown in the previous example is very similar to loops found in other programming languages. But actually, if you want to be a \"Python\" developer, you have to avoind using explicit loops. Python ofers alternative apporaches, specifying programming technqiues such as *functional programming* (expression-oriented programming).\n",
    "\n",
    "The tools that Python provides to develop functional programming comprise a series of functions:\n",
    "\n",
    "* map(function, list)\n",
    "* filter(function, list)\n",
    "* reduce(function, list)\n",
    "* lambda\n",
    "* list comprehension\n",
    "\n",
    "The *for* loop that you have just seen has a specific purpose, which is to apply an operation on each item and then somehow gather the result. This can be done by the *map()* function."
   ]
  },
  {
   "cell_type": "code",
   "execution_count": 20,
   "id": "81346f82",
   "metadata": {},
   "outputs": [],
   "source": [
    "items = [1, 2, 3, 4]\n",
    "def inc(x): \n",
    "    return x + 1"
   ]
  },
  {
   "cell_type": "code",
   "execution_count": 21,
   "id": "272b87e0",
   "metadata": {},
   "outputs": [
    {
     "data": {
      "text/plain": [
       "[2, 3, 4, 5]"
      ]
     },
     "execution_count": 21,
     "metadata": {},
     "output_type": "execute_result"
    }
   ],
   "source": [
    "[*map(inc, items)]"
   ]
  },
  {
   "cell_type": "markdown",
   "id": "d3b997bc",
   "metadata": {},
   "source": [
    "In the previous example, it first defined the function that performs the operation on every single element, and then it passes it as the first argument to *map()*. Python allows you to define the function directly within the first argument uisng *lambda* as a function. This greatly reduces the code and compacts the previous construct into a single line of code."
   ]
  },
  {
   "cell_type": "code",
   "execution_count": 22,
   "id": "28cfae90",
   "metadata": {},
   "outputs": [
    {
     "data": {
      "text/plain": [
       "[2, 3, 4, 5]"
      ]
     },
     "execution_count": 22,
     "metadata": {},
     "output_type": "execute_result"
    }
   ],
   "source": [
    "[*map((lambda x: x + 1), items)]"
   ]
  },
  {
   "cell_type": "markdown",
   "id": "17d57b8b",
   "metadata": {},
   "source": [
    "Two other functions working in a similar way are *filter()* and *reduce()*. The *filter()* function extracts the elements of the list for which the function returns *True*. The *reduce()* function instead considers all the elements of the list to produce a single result. To use *reduce()*, you must import the module *functools*."
   ]
  },
  {
   "cell_type": "code",
   "execution_count": 23,
   "id": "722669a8",
   "metadata": {},
   "outputs": [
    {
     "data": {
      "text/plain": [
       "[1, 2, 3]"
      ]
     },
     "execution_count": 23,
     "metadata": {},
     "output_type": "execute_result"
    }
   ],
   "source": [
    "[*filter((lambda x: x < 4), items)]"
   ]
  },
  {
   "cell_type": "code",
   "execution_count": 24,
   "id": "fca19852",
   "metadata": {},
   "outputs": [
    {
     "data": {
      "text/plain": [
       "0.041666666666666664"
      ]
     },
     "execution_count": 24,
     "metadata": {},
     "output_type": "execute_result"
    }
   ],
   "source": [
    "from functools import reduce\n",
    "reduce((lambda x,y: x/y), items)"
   ]
  },
  {
   "cell_type": "markdown",
   "id": "e0ecf296",
   "metadata": {},
   "source": [
    "Both of these functions implement other types by using the *for* loop. They replace those cycles and their functionaly, which can be alternatively extressed with simple functions. That is what constitutes *functional programming*.\n",
    "\n",
    "The final concept of *functional programming* is *list comprehension*. This concept is used to build lists in a very natural and simple way, referring to them in a manner similar to how mathematicians describe datasets. The values in a sequence are defined through a particular function or operation."
   ]
  },
  {
   "cell_type": "code",
   "execution_count": 25,
   "id": "0ffb0999",
   "metadata": {},
   "outputs": [
    {
     "data": {
      "text/plain": [
       "[0, 1, 4, 9, 16]"
      ]
     },
     "execution_count": 25,
     "metadata": {},
     "output_type": "execute_result"
    }
   ],
   "source": [
    "S = [x**2 for x in range(5)]\n",
    "S"
   ]
  },
  {
   "cell_type": "markdown",
   "id": "604d2002",
   "metadata": {},
   "source": [
    "### Indentation\n",
    "Writing Python Code > Indentation<br/>\n",
    "Nelli, F. \"Python Data Analytics: With Pandas.\" NumPy, and Matplotlib, Rome, Italy: Apress Media LLC (2018).\n",
    "\n",
    "A peculiarity for those coming from other programming languages is the role that *indentation* plays. Whereas you used to manage indentation for purely aesthetic reasons, making the code somewhat more readable, in Python identation assumes an integral role in the implementation of the code, by dividing it into logical blocks. In fact, while in Java, C, and C++, each line of code is separated from the next by a semicolon (;) , in Python you should not specify any symbol that separates them, included the braces to indicate a logical block.\n",
    "\n",
    "These roles in Python are handled through indentation; that is, depending on the starting point of the code line, the interpreter determines whether it belongs to a logical block or not."
   ]
  },
  {
   "cell_type": "code",
   "execution_count": 26,
   "id": "0e238c00",
   "metadata": {},
   "outputs": [
    {
     "name": "stdout",
     "output_type": "stream",
     "text": [
      "I'm four\n"
     ]
    }
   ],
   "source": [
    "a = 4\n",
    "if a > 3:\n",
    "    if a < 5:\n",
    "        print(\"I'm four\")\n",
    "else:\n",
    "    print(\"I'm a little number\")"
   ]
  },
  {
   "cell_type": "code",
   "execution_count": 27,
   "id": "70f4bc11",
   "metadata": {},
   "outputs": [
    {
     "name": "stdout",
     "output_type": "stream",
     "text": [
      "I'm four\n"
     ]
    }
   ],
   "source": [
    "if a > 3:\n",
    "    if a < 5:\n",
    "        print(\"I'm four\")\n",
    "    else:\n",
    "        print(\"I'm a big number\")"
   ]
  },
  {
   "cell_type": "markdown",
   "id": "2a362c01",
   "metadata": {},
   "source": [
    "In this example you can see that depending on how the *else* command is indented, the conditions assume two different meanings (specified by me in the strings themselves).\n",
    "\n",
    "## IPython\n",
    "IPython<br/>\n",
    "Nelli, F. \"Python Data Analytics: With Pandas.\" NumPy, and Matplotlib, Rome, Italy: Apress Media LLC (2018).\n",
    "\n",
    "IPython is a further development of Python that includes a number of tools:\n",
    "\n",
    "* The IPython shell, which is a powerful interactive shell resulting in a greatly enhanced Python terminal.\n",
    "* A QtConsole, which is a hybrid between a shell and a GUI, allowing you to display graphics inside the console instead of in a separate window.\n",
    "* The IPython Notebook, which is a web interface that allows you to mix text, executable code, graphics, and formulas in a single representation.\n",
    "\n",
    "## IPython Shell\n",
    "IPython > IPython Shell<br/>\n",
    "Nelli, F. \"Python Data Analytics: With Pandas.\" NumPy, and Matplotlib, Rome, Italy: Apress Media LLC (2018).\n",
    "\n",
    "This shell apparently resembles a Python session run from a command line , but actually, it provides many other features that make this shell much more powerful and versatile than the classic one. To launch this shell, just type *ipython* on the command line.\n",
    "\n",
    "<img src=\"Figures/2_5.jpg\" alt=\"IPython\" width=\"900\" height=\"900\"> \n",
    "\n",
    "As you can see, a particular prompt appears with the value *In\\[1\\]*. This means that it is the first line of input. Indeed, IPython offers a system of numbered prompts (indexed) with input and output caching.\n",
    "\n",
    "<img src=\"Figures/2_6.jpg\" alt=\"IPython Run\" width=\"900\" height=\"900\">\n",
    "\n",
    "The same thing applies to values in output that are indicated with the values *Out\\[1\\]*, *Out\\[2\\]*, and so on. IPython saves all inputs that you enter by storing them as variables. In fact, all the inuts entered were included as fields in a list called *In*.\n",
    "\n",
    "<img src=\"Figures/2_7.jpg\" alt=\"In List\" width=\"900\" height=\"900\">\n",
    "\n",
    "The indices of the list elements are the values that appear in each prompt. Thus, to access a single line of input, you can simply specify the value.\n",
    "\n",
    "<img src=\"Figures/2_8.jpg\" alt=\"In Element\" width=\"900\" height=\"900\">\n",
    "\n",
    "For output, you can apply the same concept.\n",
    "\n",
    "<img src=\"Figures/2_9.jpg\" alt=\"Out List\" width=\"900\" height=\"900\">\n",
    "\n",
    "## The Jupyter Project\n",
    "The Jupyter Project<br/>\n",
    "Nelli, F. \"Python Data Analytics: With Pandas.\" NumPy, and Matplotlib, Rome, Italy: Apress Media LLC (2018).\n",
    "\n",
    "### Jupyter QtConsole\n",
    "The Jupyter Project > Jupyter QtConsole<br/>\n",
    "Nelli, F. \"Python Data Analytics: With Pandas.\" NumPy, and Matplotlib, Rome, Italy: Apress Media LLC (2018).\n",
    "\n",
    "### Jupyter Notebook\n",
    "The Jupyter Project > Jupyter Notebook<br/>\n",
    "Nelli, F. \"Python Data Analytics: With Pandas.\" NumPy, and Matplotlib, Rome, Italy: Apress Media LLC (2018).\n",
    "\n",
    "## PyPI-The Python Package Index\n",
    "PyPI-The Python Package Index<br/>\n",
    "Nelli, F. \"Python Data Analytics: With Pandas.\" NumPy, and Matplotlib, Rome, Italy: Apress Media LLC (2018).\n",
    "\n",
    "The Python Package Index (PyPI) is a software repository that contains all the software needed for programming in Python, for example, all Python packages belonging to other Python libraries. The content repository is managed directly by the developers of individual packages that deal with updating the respository with the latest versions of their released libraries. For a list of the packages contained in the repository, go to the official page of PyPI at https://pypi.python.org/pypi\n",
    "\n",
    "As far as the administration of these packages, you can use the pip application, which is the package manager of PyPI.\n",
    "\n",
    "By launching it from the command line, you can manage all the packages and individually decide if a package should be installed, upgraded, or removed. Pip will check if the package is already installed, or if it needs to be updated, to control dependencies, and to assess whether other packages are necessary. Furthemore, it manages the downloading and installation processes.\n",
    "\n",
    "*\\$pip install <<package\\_name>>*   \n",
    "\n",
    "*\\$pip search <<package\\_name>>*   \n",
    "\n",
    "*\\$pip show <<package\\_name>>*   \n",
    "\n",
    "*\\$pip uninstall <<package\\_name>>*   \n",
    "\n",
    "Regarding the installation, if you have Python 3.4+ (released March 2014) and Python 2.7.9+ (released December 2014) already installed on your system, the pip software is already included in these releases of Python. However, if you are still using an older version of Python, you need to install pip on your system. The installation of pip on your system depends on the operating system on which you are working.\n",
    "\n",
    "On Linux Debian-Ubuntu, use this command\n",
    "\n",
    "*\\$sudo apt-get install python-pip*\n",
    "\n",
    "On Linux Fedora, use this command:\n",
    "\n",
    "*\\$sudo yum install python-pip*\n",
    "\n",
    "On Windows, visit https://pip.pypa.io/en/latest/installation/ and download *get-pip.py* onto your PC. Once the file is downloaded, runthis command\n",
    "\n",
    "*python get-pip.py*\n",
    "\n",
    "This way, you will install the package manager. Remember to add *C:\\Python3.X\\Scripts* to the **PATH environment variable**. \n",
    "\n",
    "## The IDEs for Python\n",
    "The IDEs for Python<br/>\n",
    "Nelli, F. \"Python Data Analytics: With Pandas.\" NumPy, and Matplotlib, Rome, Italy: Apress Media LLC (2018).\n",
    "\n",
    "### Spyder\n",
    "The IDEs for Python > Spyder<br/>\n",
    "Nelli, F. \"Python Data Analytics: With Pandas.\" NumPy, and Matplotlib, Rome, Italy: Apress Media LLC (2018).\n",
    "\n",
    "### Eclipse (pyDev)\n",
    "The IDEs for Python > Eclipse (PyDev)<br/>\n",
    "Nelli, F. \"Python Data Analytics: With Pandas.\" NumPy, and Matplotlib, Rome, Italy: Apress Media LLC (2018).\n",
    "\n",
    "### Sublime\n",
    "The IDEs for Python > Sublime<br/>\n",
    "Nelli, F. \"Python Data Analytics: With Pandas.\" NumPy, and Matplotlib, Rome, Italy: Apress Media LLC (2018).\n",
    "\n",
    "### Liclipse\n",
    "The IDEs for Python > Liclipse<br/>\n",
    "Nelli, F. \"Python Data Analytics: With Pandas.\" NumPy, and Matplotlib, Rome, Italy: Apress Media LLC (2018).\n",
    "\n",
    "### NinjaIDE\n",
    "The IDEs for Python > NinjaIDE<br/>\n",
    "Nelli, F. \"Python Data Analytics: With Pandas.\" NumPy, and Matplotlib, Rome, Italy: Apress Media LLC (2018).\n",
    "\n",
    "### Komodo IDE\n",
    "The IDEs for Python > Komodo IDE<br/>\n",
    "Nelli, F. \"Python Data Analytics: With Pandas.\" NumPy, and Matplotlib, Rome, Italy: Apress Media LLC (2018).\n",
    "\n",
    "## SciPy\n",
    "SciPy<br/>\n",
    "Nelli, F. \"Python Data Analytics: With Pandas.\" NumPy, and Matplotlib, Rome, Italy: Apress Media LLC (2018).\n",
    "\n",
    "### NumPy\n",
    "SciPy > NumPy<br/>\n",
    "Nelli, F. \"Python Data Analytics: With Pandas.\" NumPy, and Matplotlib, Rome, Italy: Apress Media LLC (2018).\n",
    "\n",
    "### Pandas\n",
    "SciPy > Pandas<br/>\n",
    "Nelli, F. \"Python Data Analytics: With Pandas.\" NumPy, and Matplotlib, Rome, Italy: Apress Media LLC (2018).\n",
    "\n",
    "### Matplotlib\n",
    "SciPy > Matplotlib<br/>\n",
    "Nelli, F. \"Python Data Analytics: With Pandas.\" NumPy, and Matplotlib, Rome, Italy: Apress Media LLC (2018).\n",
    "\n",
    "## Conclusions\n",
    "Conclusions<br/>\n",
    "Nelli, F. \"Python Data Analytics: With Pandas.\" NumPy, and Matplotlib, Rome, Italy: Apress Media LLC (2018)."
   ]
  }
 ],
 "metadata": {
  "kernelspec": {
   "display_name": "Python 3 (ipykernel)",
   "language": "python",
   "name": "python3"
  },
  "language_info": {
   "codemirror_mode": {
    "name": "ipython",
    "version": 3
   },
   "file_extension": ".py",
   "mimetype": "text/x-python",
   "name": "python",
   "nbconvert_exporter": "python",
   "pygments_lexer": "ipython3",
   "version": "3.9.7"
  }
 },
 "nbformat": 4,
 "nbformat_minor": 5
}
