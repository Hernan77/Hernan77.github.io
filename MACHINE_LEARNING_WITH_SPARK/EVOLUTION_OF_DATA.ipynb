{
 "cells": [
  {
   "cell_type": "markdown",
   "id": "e3e6db3d",
   "metadata": {},
   "source": [
    "# EVOLUTION OF DATA\n",
    "\n",
    "Hernan Carlos Chavez Paura Garcia<br>\n",
    "Feb 1st, 2025<br>\n",
    "Singh, Pramod. Machine Learning with PySpark: With Natural Language Processing and Recommender Systems. Apress, 2018."
   ]
  },
  {
   "cell_type": "markdown",
   "id": "9d84bfd6",
   "metadata": {},
   "source": [
    "## DATA GENERATION\n",
    "\n",
    "<br/><br/><center>Fig. 1 Data Evolution</center>\n",
    "\n",
    "<center><img src=\"MACHINE_LEARNING_WITH_SPARK_IMAGES/EVOLUTION_OF_DATA_1.png\" width=\"600\"></center><br/><br/>\n",
    "\n",
    "<br/><br/><center>Fig. 2 Single Thread Processing</center>\n",
    "\n",
    "<center><img src=\"MACHINE_LEARNING_WITH_SPARK_IMAGES/EVOLUTION_OF_DATA_2.png\" width=\"600\"></center><br/><br/>\n",
    "\n",
    "<br/><br/><center>Fig. 3 Parallel Processing</center>\n",
    "\n",
    "<center><img src=\"MACHINE_LEARNING_WITH_SPARK_IMAGES/EVOLUTION_OF_DATA_3.png\" width=\"600\"></center><br/><br/>"
   ]
  },
  {
   "cell_type": "markdown",
   "id": "6294a542",
   "metadata": {},
   "source": [
    "## SPARK\n",
    "\n",
    "<br/><br/><center>Fig. 4 Spark Evolution</center>\n",
    "\n",
    "<center><img src=\"MACHINE_LEARNING_WITH_SPARK_IMAGES/EVOLUTION_OF_DATA_4.png\" width=\"600\"></center><br/><br/>\n",
    "\n",
    "<br/><br/><center>Fig. 5 Spark Functionality</center>\n",
    "\n",
    "<center><img src=\"MACHINE_LEARNING_WITH_SPARK_IMAGES/EVOLUTION_OF_DATA_5.png\" width=\"600\"></center><br/><br/>\n",
    "\n"
   ]
  },
  {
   "cell_type": "markdown",
   "id": "a675364a",
   "metadata": {},
   "source": [
    "## SPARK CORE\n",
    "\n",
    "<br/><br/><center>Fig. 6 Spark Architecture</center>\n",
    "\n",
    "<center><img src=\"MACHINE_LEARNING_WITH_SPARK_IMAGES/EVOLUTION_OF_DATA_6.png\" width=\"600\"></center><br/><br/>"
   ]
  },
  {
   "cell_type": "markdown",
   "id": "adc143ca",
   "metadata": {},
   "source": [
    "## SPARK COMPONENTS\n",
    "\n",
    "* SPARK SQL\n",
    "* SPARK STREAMING\n",
    "* SPARL MLIB\n",
    "* SPARK GRAPHX/GRAPHFRAME"
   ]
  }
 ],
 "metadata": {
  "kernelspec": {
   "display_name": "Python 3 (ipykernel)",
   "language": "python",
   "name": "python3"
  },
  "language_info": {
   "codemirror_mode": {
    "name": "ipython",
    "version": 3
   },
   "file_extension": ".py",
   "mimetype": "text/x-python",
   "name": "python",
   "nbconvert_exporter": "python",
   "pygments_lexer": "ipython3",
   "version": "3.11.5"
  }
 },
 "nbformat": 4,
 "nbformat_minor": 5
}
