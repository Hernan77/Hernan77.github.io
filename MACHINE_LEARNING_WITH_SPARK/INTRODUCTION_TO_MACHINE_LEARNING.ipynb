{
 "cells": [
  {
   "cell_type": "markdown",
   "id": "19abc412",
   "metadata": {},
   "source": [
    "# INTRODUCTION TO MACHINE LEARNING\n",
    "\n",
    "Hernan Carlos Chavez Paura Garcia</br>\n",
    "Feb 1st, 2025</br>\n",
    "Singh, Pramod. Machine Learning with PySpark: With Natural Language Processing and Recommender Systems. Apress, 2018."
   ]
  },
  {
   "cell_type": "markdown",
   "id": "2fd64175",
   "metadata": {},
   "source": [
    "## INTRODUCTION TO MACHINE LEARNING\n",
    "\n",
    "We can categorize machine learning into four categories:\n",
    "\n",
    "* SUPERVISED MACHINE LEARNING\n",
    "* UNSUPERVISED MACHINE LEARNING\n",
    "* SEMI-SUPERVISED MACHINE LEARNING\n",
    "* REINFORCEMENT LEARNING"
   ]
  },
  {
   "cell_type": "markdown",
   "id": "6b581ee1",
   "metadata": {},
   "source": [
    "## SUPERVISED MACHINE LEARNING\n",
    "\n",
    "The methodology that is used sometimes varies based on the kind of output the model is trying to predict.  If the target label is a categorical type, then it falls under the Classification category; and if the target feature is a numerical value, it would fall under then Regression category. Some of the supervised ML algorithms are the following:\n",
    "\n",
    "1. Linear Regression\n",
    "2. Logistic Regression\n",
    "3. Support Vector Machines\n",
    "4. Naive Bayesian Classifier\n",
    "5. Decision Trees\n",
    "6. Ensembling Methods"
   ]
  },
  {
   "cell_type": "markdown",
   "id": "72836232",
   "metadata": {},
   "source": [
    "## UNSUPERVISED MACHINE LEARNING\n",
    "\n",
    "The algorithms used in unsupervised learning are:\n",
    "\n",
    "1. Clustering Algorithms (K-Means, Hierarchical)\n",
    "2. Anomaly Detection\n",
    "3. Dimensionality Reduction Techniques\n",
    "4. Topic Modeling\n",
    "5. Association Rile Mining\n",
    "\n",
    "The whole idea of Unsuprvised learning is to discover and find out the patterns rather than making predictions. So, unsupervised learning is different from supervised in mainly two aspects:\n",
    "\n",
    "1. There is no labeled training data and no predictions.\n",
    "2. The perfromance of models in unsupervised learning cannot be evaluated as there are no labels or correct answers."
   ]
  },
  {
   "cell_type": "markdown",
   "id": "839f5179",
   "metadata": {},
   "source": [
    "## SEMI-SUPERVISED LEARNING\n",
    "\n",
    "The semi-supervised learning can be used on a small portion of labelled data to train the model and then use it for labelling the other reamining part of data, which can then be used for other purposes. This is also known as Pseudo-labelling as its labels the unlabeled data.\n",
    "\n",
    "The next step in semi-supervised learning is to retrain the model on the entire labeled dataset. The advantage that it offers is that the model gets trained on a bigger dataset, which was not the case earlier, and is now more robuts and better at predictions. The other advantage is that semi-supervised learning saves a lot of effort and time that could go to manually label the data. The flipside of doing all this is that it's difficult to get high performance on the pseudo-labeling as it uses a small part of the labeled data to make predictions. However, it is still better option rather than manually labeling the data, which can be very expensive and time consuming at the same time.   "
   ]
  },
  {
   "cell_type": "markdown",
   "id": "122ac942",
   "metadata": {},
   "source": [
    "## REINFORCEMENT LEARNING\n",
    "\n",
    "Let's break reinforcement learning down to individual elements uisng a visualization.\n",
    "\n",
    "\n",
    "<br/><br/><center>Fig. 1 Reinforcement Learning</center>\n",
    "\n",
    "<center><img src=\"MACHINE_LEARNING_WITH_SPARK_IMAGES/INTRODUCTION_TO_MACHINE_LEARNING_1.png\" width=\"600\"></center><br/><br/>\n",
    "\n",
    "* **Autonomous Agent**: This is the main character in this whole learning process who is responsible for taking action. If it is a game, the agent makes the moves to finish or reach the end goal.\n",
    "\n",
    "* **Actions**: These are the sets of possible steps that the agent can take in order to move forward in the task. Each action will have some effect on the state of the agent and can result in either a reward or a penalty. For example, in a game of Tennis, actions might be to serve, return, move left or right, etc.\n",
    "\n",
    "* **Reward**: This is the key to making progress in reinforcement learning. Rewards enable the agent to take actions based on it's positive rewards or penalties. It is a feedback mechanism that differentiates it from traditional supervised and unsupervised learning techniques.\n",
    "\n",
    "* **Environment**: This is the territory in which the agent gets to play in. Environment decided whether the actions that the agent takes result in rewards or penalties.\n",
    "\n",
    "* **State**: The position the agent is in at any given point of time defines the state of the agent. To move forward or reach the end goal, the agent has to keep changing states in a positive direction to maximize the rewards.\n",
    "\n",
    "The unique thing about Reinforcement Learning is that there is a feedback mechanism that drives the next behavior of the agent based on maximizing the total discounted reward. Some of the prominent applications that use Reinforcement Learning are self-driving cars, optimization of energy consumption, and the gaming domain. However, it can also be used to build recommender systems as well. "
   ]
  }
 ],
 "metadata": {
  "kernelspec": {
   "display_name": "Python 3 (ipykernel)",
   "language": "python",
   "name": "python3"
  },
  "language_info": {
   "codemirror_mode": {
    "name": "ipython",
    "version": 3
   },
   "file_extension": ".py",
   "mimetype": "text/x-python",
   "name": "python",
   "nbconvert_exporter": "python",
   "pygments_lexer": "ipython3",
   "version": "3.11.5"
  }
 },
 "nbformat": 4,
 "nbformat_minor": 5
}
