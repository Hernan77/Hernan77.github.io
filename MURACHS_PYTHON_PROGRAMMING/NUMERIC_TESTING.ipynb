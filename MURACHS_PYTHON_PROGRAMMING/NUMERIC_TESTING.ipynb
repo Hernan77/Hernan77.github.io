{
 "cells": [
  {
   "cell_type": "markdown",
   "id": "006abf79",
   "metadata": {},
   "source": [
    "# NUMERIC TESTING\n",
    "\n",
    "<br>Hernan Chavez, 2024<br/>\n",
    "Ref. Michael Urban, Joel Murach, and Mike Murach. 2016. Murach's Python Programming. Mike Murach & Associates"
   ]
  },
  {
   "cell_type": "code",
   "execution_count": 1,
   "id": "b792850c",
   "metadata": {},
   "outputs": [
    {
     "data": {
      "text/plain": [
       "6"
      ]
     },
     "execution_count": 1,
     "metadata": {},
     "output_type": "execute_result"
    }
   ],
   "source": [
    "25 // 4"
   ]
  },
  {
   "cell_type": "code",
   "execution_count": 2,
   "id": "40a2c05c",
   "metadata": {},
   "outputs": [
    {
     "data": {
      "text/plain": [
       "6.25"
      ]
     },
     "execution_count": 2,
     "metadata": {},
     "output_type": "execute_result"
    }
   ],
   "source": [
    "25 / 4"
   ]
  },
  {
   "cell_type": "code",
   "execution_count": 3,
   "id": "b838e8e5",
   "metadata": {},
   "outputs": [
    {
     "data": {
      "text/plain": [
       "8.333333333333334"
      ]
     },
     "execution_count": 3,
     "metadata": {},
     "output_type": "execute_result"
    }
   ],
   "source": [
    "25 / 3"
   ]
  },
  {
   "cell_type": "code",
   "execution_count": 4,
   "id": "ce847b7a",
   "metadata": {},
   "outputs": [
    {
     "data": {
      "text/plain": [
       "1"
      ]
     },
     "execution_count": 4,
     "metadata": {},
     "output_type": "execute_result"
    }
   ],
   "source": [
    "counter = 0\n",
    "counter = counter + 1\n",
    "counter"
   ]
  },
  {
   "cell_type": "code",
   "execution_count": 5,
   "id": "92b22730",
   "metadata": {},
   "outputs": [
    {
     "data": {
      "text/plain": [
       "2"
      ]
     },
     "execution_count": 5,
     "metadata": {},
     "output_type": "execute_result"
    }
   ],
   "source": [
    "counter += 1\n",
    "counter"
   ]
  },
  {
   "cell_type": "code",
   "execution_count": 6,
   "id": "6557d340",
   "metadata": {},
   "outputs": [
    {
     "data": {
      "text/plain": [
       "10.0"
      ]
     },
     "execution_count": 6,
     "metadata": {},
     "output_type": "execute_result"
    }
   ],
   "source": [
    "subtotal = 250.00\n",
    "tax_percent = .04\n",
    "tax = subtotal * tax_percent\n",
    "tax"
   ]
  },
  {
   "cell_type": "code",
   "execution_count": 7,
   "id": "bbe263fb",
   "metadata": {},
   "outputs": [
    {
     "data": {
      "text/plain": [
       "260.0"
      ]
     },
     "execution_count": 7,
     "metadata": {},
     "output_type": "execute_result"
    }
   ],
   "source": [
    "total = subtotal + tax\n",
    "total"
   ]
  },
  {
   "cell_type": "code",
   "execution_count": 8,
   "id": "dd0d2a89",
   "metadata": {},
   "outputs": [
    {
     "ename": "NameError",
     "evalue": "name 'Tax' is not defined",
     "output_type": "error",
     "traceback": [
      "\u001b[0;31m---------------------------------------------------------------------------\u001b[0m",
      "\u001b[0;31mNameError\u001b[0m                                 Traceback (most recent call last)",
      "Cell \u001b[0;32mIn[8], line 1\u001b[0m\n\u001b[0;32m----> 1\u001b[0m total \u001b[38;5;241m=\u001b[39m total \u001b[38;5;241m-\u001b[39m Tax\n",
      "\u001b[0;31mNameError\u001b[0m: name 'Tax' is not defined"
     ]
    }
   ],
   "source": [
    "total = total - Tax"
   ]
  },
  {
   "cell_type": "code",
   "execution_count": 9,
   "id": "c749f63d",
   "metadata": {},
   "outputs": [
    {
     "data": {
      "text/plain": [
       "250.0"
      ]
     },
     "execution_count": 9,
     "metadata": {},
     "output_type": "execute_result"
    }
   ],
   "source": [
    "total = total - tax\n",
    "total"
   ]
  }
 ],
 "metadata": {
  "kernelspec": {
   "display_name": "Python 3 (ipykernel)",
   "language": "python",
   "name": "python3"
  },
  "language_info": {
   "codemirror_mode": {
    "name": "ipython",
    "version": 3
   },
   "file_extension": ".py",
   "mimetype": "text/x-python",
   "name": "python",
   "nbconvert_exporter": "python",
   "pygments_lexer": "ipython3",
   "version": "3.11.5"
  }
 },
 "nbformat": 4,
 "nbformat_minor": 5
}
