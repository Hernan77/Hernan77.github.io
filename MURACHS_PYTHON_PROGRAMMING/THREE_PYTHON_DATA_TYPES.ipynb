{
 "cells": [
  {
   "cell_type": "markdown",
   "id": "923107bc",
   "metadata": {},
   "source": [
    "# THREE PYTHON DATA TYPES\n",
    "\n",
    "<br>Hernan Chavez, 2024<br/>\n",
    "Ref. Michael Urban, Joel Murach, and Mike Murach. 2016. Murach's Python Programming. Mike Murach & Associates<br/>"
   ]
  },
  {
   "cell_type": "code",
   "execution_count": 1,
   "id": "1ef6d4a2",
   "metadata": {},
   "outputs": [],
   "source": [
    "# Code that initializes variables and assigns data to them\n",
    "firt_name = \"Mike\"    # sets first_name to a str of \"Mike\"\n",
    "quantity1 = 3         # sets quantity1 to an int value of 3\n",
    "quantity2 = 5         # sets quantity2 to an int value of 5\n",
    "list_price = 19.99    # sets list_price to a float value of 19.99"
   ]
  },
  {
   "cell_type": "code",
   "execution_count": 2,
   "id": "3f3c848e",
   "metadata": {},
   "outputs": [],
   "source": [
    "# Code that assigns new data to the variables above\n",
    "firt_name = \"Joel\"     # sets first_name to a str of \"Joel\"\n",
    "quantity1 = 10         # sets quantity1 to an int value of 10\n",
    "quantity1 = quantity2  # sets quantity1 to an int value of 5\n",
    "quantity1 = \"15\"       # sets quantity1 to a str of \"15\", not an int of 15"
   ]
  },
  {
   "cell_type": "code",
   "execution_count": 3,
   "id": "26574588",
   "metadata": {},
   "outputs": [
    {
     "ename": "NameError",
     "evalue": "name 'Quantity2' is not defined",
     "output_type": "error",
     "traceback": [
      "\u001b[0;31m---------------------------------------------------------------------------\u001b[0m",
      "\u001b[0;31mNameError\u001b[0m                                 Traceback (most recent call last)",
      "Cell \u001b[0;32mIn[3], line 2\u001b[0m\n\u001b[1;32m      1\u001b[0m \u001b[38;5;66;03m# Code that causes an error because of incorrect case\u001b[39;00m\n\u001b[0;32m----> 2\u001b[0m quantity1 \u001b[38;5;241m=\u001b[39m Quantity2\n",
      "\u001b[0;31mNameError\u001b[0m: name 'Quantity2' is not defined"
     ]
    }
   ],
   "source": [
    "# Code that causes an error because of incorrect case\n",
    "quantity1 = Quantity2  # NmeError: 'Quantity2' is not defined"
   ]
  }
 ],
 "metadata": {
  "kernelspec": {
   "display_name": "Python 3 (ipykernel)",
   "language": "python",
   "name": "python3"
  },
  "language_info": {
   "codemirror_mode": {
    "name": "ipython",
    "version": 3
   },
   "file_extension": ".py",
   "mimetype": "text/x-python",
   "name": "python",
   "nbconvert_exporter": "python",
   "pygments_lexer": "ipython3",
   "version": "3.11.5"
  }
 },
 "nbformat": 4,
 "nbformat_minor": 5
}
