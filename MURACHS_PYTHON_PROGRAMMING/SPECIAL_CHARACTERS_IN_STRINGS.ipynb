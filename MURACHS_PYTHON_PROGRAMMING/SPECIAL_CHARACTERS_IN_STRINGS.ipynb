{
 "cells": [
  {
   "cell_type": "markdown",
   "id": "776e7d7a",
   "metadata": {},
   "source": [
    "# SPECIAL CHARACTERS IN STRINGS\n",
    "\n",
    "<br>Hernan Chavez, 2024<br/>\n",
    "Ref. Michael Urban, Joel Murach, and Mike Murach. 2016. Murach's Python Programming. Mike Murach & Associates"
   ]
  },
  {
   "cell_type": "code",
   "execution_count": 1,
   "id": "d3a52fae",
   "metadata": {},
   "outputs": [
    {
     "name": "stdout",
     "output_type": "stream",
     "text": [
      "Title: Python Programming\n",
      "Quantity: 5\n"
     ]
    }
   ],
   "source": [
    "# The new line character\n",
    "print(\"Title: Python Programming\\nQuantity: 5\")"
   ]
  },
  {
   "cell_type": "code",
   "execution_count": 2,
   "id": "ebda0f59",
   "metadata": {},
   "outputs": [
    {
     "name": "stdout",
     "output_type": "stream",
     "text": [
      "Title:\t\tPython Programming\n",
      "Quantity:\t5\n"
     ]
    }
   ],
   "source": [
    "# The tab and the new line characters\n",
    "print(\"Title:\\t\\tPython Programming\\nQuantity:\\t5\")"
   ]
  },
  {
   "cell_type": "code",
   "execution_count": 3,
   "id": "195c8013",
   "metadata": {},
   "outputs": [
    {
     "name": "stdout",
     "output_type": "stream",
     "text": [
      "C:\\murach\\python\n"
     ]
    }
   ],
   "source": [
    "# The backslash in a Windows path\n",
    "print(\"C:\\\\murach\\\\python\")"
   ]
  },
  {
   "cell_type": "code",
   "execution_count": 4,
   "id": "0427ee50",
   "metadata": {},
   "outputs": [
    {
     "name": "stdout",
     "output_type": "stream",
     "text": [
      "Type \"x\" to exit\n",
      "Type 'x' to exit\n",
      "Type 'x' to exit\n",
      "Type \"x\" to exit\n"
     ]
    }
   ],
   "source": [
    "# Four ways to include quotation marks in a string  \n",
    "print(\"Type \\\"x\\\" to exit\")    # String is: Type \"x\" to exit.\n",
    "print('Type \\'x\\' to exit')    # String is: Type 'x' to exit.\n",
    "print(\"Type 'x' to exit\")      # String is: Type 'x' to exit.\n",
    "print('Type \\\"x\\\" to exit')    # String is: Type \"x\" to exit."
   ]
  }
 ],
 "metadata": {
  "kernelspec": {
   "display_name": "Python 3 (ipykernel)",
   "language": "python",
   "name": "python3"
  },
  "language_info": {
   "codemirror_mode": {
    "name": "ipython",
    "version": 3
   },
   "file_extension": ".py",
   "mimetype": "text/x-python",
   "name": "python",
   "nbconvert_exporter": "python",
   "pygments_lexer": "ipython3",
   "version": "3.11.5"
  }
 },
 "nbformat": 4,
 "nbformat_minor": 5
}
