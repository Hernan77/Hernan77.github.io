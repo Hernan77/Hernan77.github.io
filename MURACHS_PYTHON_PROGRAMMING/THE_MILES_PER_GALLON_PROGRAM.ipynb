{
 "cells": [
  {
   "cell_type": "markdown",
   "id": "66b6703b",
   "metadata": {},
   "source": [
    "# THE MILES PER GALLON PROGRAM\n",
    "\n",
    "<br>Hernan Chavez, 2024<br/>\n",
    "Ref. Michael Urban, Joel Murach, and Mike Murach. 2016. Murach's Python Programming. Mike Murach & Associates"
   ]
  },
  {
   "cell_type": "code",
   "execution_count": 1,
   "id": "b04ad760",
   "metadata": {},
   "outputs": [
    {
     "name": "stdout",
     "output_type": "stream",
     "text": [
      "The Miles Per Gallon program\n",
      "\n",
      "Enter miles driven:\t\t150\n",
      "Enter gallons of gas used:\t\t35.875\n",
      "\n",
      "Miles per Gallon:\t\t4.18\n",
      "\n",
      "Bye\n"
     ]
    }
   ],
   "source": [
    "# The code\n",
    "\n",
    "# display a title\n",
    "print(\"The Miles Per Gallon program\")\n",
    "print()\n",
    "\n",
    "# get inoput from the user\n",
    "miles_driven = float(input(\"Enter miles driven:\\t\\t\"))\n",
    "gallons_used = float(input(\"Enter gallons of gas used:\\t\\t\"))\n",
    "\n",
    "# calculate and round miles per gallon\n",
    "mpg = miles_driven / gallons_used\n",
    "mpg = round(mpg, 2)\n",
    "\n",
    "# display the result\n",
    "print()\n",
    "print(\"Miles per Gallon:\\t\\t\" + str(mpg))\n",
    "print()\n",
    "print(\"Bye\")"
   ]
  }
 ],
 "metadata": {
  "kernelspec": {
   "display_name": "Python 3 (ipykernel)",
   "language": "python",
   "name": "python3"
  },
  "language_info": {
   "codemirror_mode": {
    "name": "ipython",
    "version": 3
   },
   "file_extension": ".py",
   "mimetype": "text/x-python",
   "name": "python",
   "nbconvert_exporter": "python",
   "pygments_lexer": "ipython3",
   "version": "3.11.5"
  }
 },
 "nbformat": 4,
 "nbformat_minor": 5
}
