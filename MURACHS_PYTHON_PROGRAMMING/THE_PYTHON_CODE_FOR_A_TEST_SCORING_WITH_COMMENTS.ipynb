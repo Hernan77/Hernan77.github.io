{
 "cells": [
  {
   "cell_type": "markdown",
   "id": "d1aa1b89",
   "metadata": {},
   "source": [
    "# THE PYTHON CODE FOR A TEST SCORING\n",
    "\n",
    "<br>Hernan Chavez, 2024<br/>\n",
    "Ref. Michael Urban, Joel Murach, and Mike Murach. 2016. Murach's Python Programming. Mike Murach & Associates<br/>"
   ]
  },
  {
   "cell_type": "code",
   "execution_count": 1,
   "id": "92849ee7",
   "metadata": {},
   "outputs": [
    {
     "name": "stdout",
     "output_type": "stream",
     "text": [
      "Enter test score: 10\n",
      "Enter test score: 20\n",
      "Enter test score: 35\n",
      "Enter test score: 42\n",
      "Enter test score: 50\n",
      "Enter test score: 65\n",
      "Enter test score: 70\n",
      "Enter test score: 100\n",
      "Enter test score: 200\n",
      "Enter test score: 999\n",
      "======================\n",
      "Total Score: 392\n",
      "Average Score: 49\n"
     ]
    }
   ],
   "source": [
    "# This is a tutorial  program tht illustrates the use of the while\n",
    "# and if statements\n",
    "\n",
    "#initialize variables\n",
    "counter = 0\n",
    "score_total = 0\n",
    "test_score = 0\n",
    "\n",
    "# get scores\n",
    "while test_score != 999:\n",
    "    test_score = int(input(\"Enter test score: \"))\n",
    "    if test_score >= 0 and test_score <= 100:\n",
    "        score_total += test_score         # add score to total\n",
    "        counter += 1                      # add 1 to counter\n",
    "\n",
    "# calculate average score\n",
    "#average_score = score_total / counter\n",
    "#average_score = round(average_score)\n",
    "average_score = round(                    # implicit continuation\n",
    "    score_total / counter)                # same results as commented out statements\n",
    "\n",
    "# display the result\n",
    "print(\"======================\")\n",
    "print(\"Total Score: \" + str(score_total)  # implicit continuation\n",
    "      + \"\\nAverage Score: \" + str(average_score))"
   ]
  }
 ],
 "metadata": {
  "kernelspec": {
   "display_name": "Python 3 (ipykernel)",
   "language": "python",
   "name": "python3"
  },
  "language_info": {
   "codemirror_mode": {
    "name": "ipython",
    "version": 3
   },
   "file_extension": ".py",
   "mimetype": "text/x-python",
   "name": "python",
   "nbconvert_exporter": "python",
   "pygments_lexer": "ipython3",
   "version": "3.11.5"
  }
 },
 "nbformat": 4,
 "nbformat_minor": 5
}
