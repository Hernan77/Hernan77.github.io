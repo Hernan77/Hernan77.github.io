{
 "cells": [
  {
   "cell_type": "markdown",
   "id": "56424b8a",
   "metadata": {},
   "source": [
    "# HOW TO USE THE PRINT( ) FUNCTION \n",
    "\n",
    "<br>Hernan Chavez, 2024<br/>\n",
    "Ref. Michael Urban, Joel Murach, and Mike Murach. 2016. Murach's Python Programming. Mike Murach & Associates"
   ]
  },
  {
   "cell_type": "code",
   "execution_count": 1,
   "id": "3ac23bed",
   "metadata": {},
   "outputs": [],
   "source": [
    "# The synthax of the print() function\n",
    "# print(data[, sep=''][, end='\\n'])"
   ]
  },
  {
   "cell_type": "code",
   "execution_count": 2,
   "id": "e5398487",
   "metadata": {},
   "outputs": [
    {
     "name": "stdout",
     "output_type": "stream",
     "text": [
      "19.99\n",
      "Price: 19.99\n",
      "1 2 3 4\n"
     ]
    }
   ],
   "source": [
    "# Three print() functions thast receive one or more arguments\n",
    "print(19.99)              # 19.99\n",
    "print(\"Price:\", 19.99)    # Price: 19.99\n",
    "print(1, 2, 3, 4)         # 1, 2, 3, 4"
   ]
  },
  {
   "cell_type": "code",
   "execution_count": 3,
   "id": "510e0033",
   "metadata": {},
   "outputs": [
    {
     "name": "stdout",
     "output_type": "stream",
     "text": [
      "Total Score: 240 \n",
      "Average Score:  80\n"
     ]
    }
   ],
   "source": [
    "# Two ways to get the same result\n",
    "\n",
    "# A print() function that receives four arguments\n",
    "score_total = 240\n",
    "average_score = 80\n",
    "print(\"Total Score:\", score_total, \n",
    "      \"\\nAverage Score: \", average_score)"
   ]
  },
  {
   "cell_type": "code",
   "execution_count": 4,
   "id": "149f2147",
   "metadata": {},
   "outputs": [
    {
     "name": "stdout",
     "output_type": "stream",
     "text": [
      "Total Score: 240\n",
      "Average Score: 80\n"
     ]
    }
   ],
   "source": [
    "# A print() function that receives one string as the argument\n",
    "print(\"Total Score: \" + str(score_total) + \n",
    "      \"\\nAverage Score: \" + str(average_score))"
   ]
  },
  {
   "cell_type": "code",
   "execution_count": 5,
   "id": "d1557de2",
   "metadata": {},
   "outputs": [
    {
     "name": "stdout",
     "output_type": "stream",
     "text": [
      "1 | 2 | 3 | 4\n",
      "1 2 3 4!!!"
     ]
    }
   ],
   "source": [
    "# Examples that use the sep and end arguments\n",
    "print(1, 2, 3, 4, sep=' | ')        # 1 | 2 | 3 | 4\n",
    "print(1, 2, 3, 4, end='!!!')        # 1 2 3 4!!!"
   ]
  }
 ],
 "metadata": {
  "kernelspec": {
   "display_name": "Python 3 (ipykernel)",
   "language": "python",
   "name": "python3"
  },
  "language_info": {
   "codemirror_mode": {
    "name": "ipython",
    "version": 3
   },
   "file_extension": ".py",
   "mimetype": "text/x-python",
   "name": "python",
   "nbconvert_exporter": "python",
   "pygments_lexer": "ipython3",
   "version": "3.11.5"
  }
 },
 "nbformat": 4,
 "nbformat_minor": 5
}
