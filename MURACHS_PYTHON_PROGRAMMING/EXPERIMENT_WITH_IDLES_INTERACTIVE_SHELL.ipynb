{
 "cells": [
  {
   "cell_type": "markdown",
   "id": "b486a4b8",
   "metadata": {},
   "source": [
    "# EXPERIMENT WITH IDLE'S INVERACTIVE SHELL\n",
    "\n",
    "<br>Hernan Chavez, 2024<br/>\n",
    "Ref. Michael Urban, Joel Murach, and Mike Murach. 2016. Murach's Python Programming. Mike Murach & Associates<br\\>"
   ]
  },
  {
   "cell_type": "code",
   "execution_count": 1,
   "id": "02b6cba2",
   "metadata": {},
   "outputs": [
    {
     "name": "stdout",
     "output_type": "stream",
     "text": [
      "THe mean ing of life\n"
     ]
    }
   ],
   "source": [
    "print(\"THe mean ing of life\")"
   ]
  },
  {
   "cell_type": "code",
   "execution_count": 2,
   "id": "e1a62e4d",
   "metadata": {},
   "outputs": [
    {
     "data": {
      "text/plain": [
       "22"
      ]
     },
     "execution_count": 2,
     "metadata": {},
     "output_type": "execute_result"
    }
   ],
   "source": [
    "10 + 12"
   ]
  },
  {
   "cell_type": "code",
   "execution_count": 3,
   "id": "a7231080",
   "metadata": {},
   "outputs": [
    {
     "data": {
      "text/plain": [
       "-2"
      ]
     },
     "execution_count": 3,
     "metadata": {},
     "output_type": "execute_result"
    }
   ],
   "source": [
    "10-12"
   ]
  },
  {
   "cell_type": "code",
   "execution_count": 4,
   "id": "3d6db552",
   "metadata": {},
   "outputs": [
    {
     "data": {
      "text/plain": [
       "12"
      ]
     },
     "execution_count": 4,
     "metadata": {},
     "output_type": "execute_result"
    }
   ],
   "source": [
    "3 * 4"
   ]
  },
  {
   "cell_type": "code",
   "execution_count": 5,
   "id": "5e4d4327",
   "metadata": {},
   "outputs": [
    {
     "data": {
      "text/plain": [
       "4.0"
      ]
     },
     "execution_count": 5,
     "metadata": {},
     "output_type": "execute_result"
    }
   ],
   "source": [
    "12/3"
   ]
  },
  {
   "cell_type": "code",
   "execution_count": 6,
   "id": "1c407e9b",
   "metadata": {},
   "outputs": [
    {
     "data": {
      "text/plain": [
       "0.3333333333333333"
      ]
     },
     "execution_count": 6,
     "metadata": {},
     "output_type": "execute_result"
    }
   ],
   "source": [
    "1 / 3"
   ]
  },
  {
   "cell_type": "code",
   "execution_count": 7,
   "id": "60f19975",
   "metadata": {},
   "outputs": [
    {
     "data": {
      "text/plain": [
       "42"
      ]
     },
     "execution_count": 7,
     "metadata": {},
     "output_type": "execute_result"
    }
   ],
   "source": [
    "3 * 4 + 30"
   ]
  },
  {
   "cell_type": "code",
   "execution_count": 8,
   "id": "d97d4ba0",
   "metadata": {},
   "outputs": [],
   "source": [
    "var1 = 30"
   ]
  },
  {
   "cell_type": "code",
   "execution_count": 9,
   "id": "1a01b656",
   "metadata": {},
   "outputs": [],
   "source": [
    "var2 = 25"
   ]
  },
  {
   "cell_type": "code",
   "execution_count": 10,
   "id": "b168c67f",
   "metadata": {},
   "outputs": [],
   "source": [
    "var3 = 10"
   ]
  },
  {
   "cell_type": "code",
   "execution_count": 11,
   "id": "82a9304a",
   "metadata": {},
   "outputs": [
    {
     "data": {
      "text/plain": [
       "30"
      ]
     },
     "execution_count": 11,
     "metadata": {},
     "output_type": "execute_result"
    }
   ],
   "source": [
    "var1"
   ]
  },
  {
   "cell_type": "code",
   "execution_count": 12,
   "id": "731ec375",
   "metadata": {},
   "outputs": [
    {
     "data": {
      "text/plain": [
       "55"
      ]
     },
     "execution_count": 12,
     "metadata": {},
     "output_type": "execute_result"
    }
   ],
   "source": [
    "var1 + var2"
   ]
  },
  {
   "cell_type": "code",
   "execution_count": 13,
   "id": "a4924670",
   "metadata": {},
   "outputs": [
    {
     "ename": "NameError",
     "evalue": "name 'var_2' is not defined",
     "output_type": "error",
     "traceback": [
      "\u001b[0;31m---------------------------------------------------------------------------\u001b[0m",
      "\u001b[0;31mNameError\u001b[0m                                 Traceback (most recent call last)",
      "Cell \u001b[0;32mIn[13], line 1\u001b[0m\n\u001b[0;32m----> 1\u001b[0m var_2\n",
      "\u001b[0;31mNameError\u001b[0m: name 'var_2' is not defined"
     ]
    }
   ],
   "source": [
    "var_2"
   ]
  },
  {
   "cell_type": "code",
   "execution_count": 14,
   "id": "1452e694",
   "metadata": {},
   "outputs": [
    {
     "data": {
      "text/plain": [
       "25"
      ]
     },
     "execution_count": 14,
     "metadata": {},
     "output_type": "execute_result"
    }
   ],
   "source": [
    "var2"
   ]
  }
 ],
 "metadata": {
  "kernelspec": {
   "display_name": "Python 3 (ipykernel)",
   "language": "python",
   "name": "python3"
  },
  "language_info": {
   "codemirror_mode": {
    "name": "ipython",
    "version": 3
   },
   "file_extension": ".py",
   "mimetype": "text/x-python",
   "name": "python",
   "nbconvert_exporter": "python",
   "pygments_lexer": "ipython3",
   "version": "3.11.5"
  }
 },
 "nbformat": 4,
 "nbformat_minor": 5
}
