{
 "cells": [
  {
   "cell_type": "markdown",
   "id": "83abf38e",
   "metadata": {},
   "source": [
    "# USE IDLE TO RUN PROGRAMS: GUESS THE NUMBER\n",
    "\n",
    "<br>Hernan Chavez, 2024<br/>\n",
    "Ref. Michael Urban, Joel Murach, and Mike Murach. 2016. Murach's Python Programming. Mike Murach & Associates<br/>"
   ]
  },
  {
   "cell_type": "code",
   "execution_count": 1,
   "id": "7cf995b5",
   "metadata": {},
   "outputs": [
    {
     "name": "stdout",
     "output_type": "stream",
     "text": [
      "Guess the number!\n",
      "\n",
      "I'm thinking of a number from 1 to 10\n",
      "\n",
      "Your guess: 100\n",
      "Too high.\n",
      "Your guess: 0\n",
      "Too low.\n",
      "Your guess: 1\n",
      "Too low.\n",
      "Your guess: 6\n",
      "Too low.\n",
      "Your guess: 7\n",
      "You guessed it in 5 tries.\n",
      "\n",
      "Would you like to play again? (y/n): y\n",
      "\n",
      "I'm thinking of a number from 1 to 10\n",
      "\n",
      "Your guess: 3\n",
      "Too low.\n",
      "Your guess: 6\n",
      "Too low.\n",
      "Your guess: 9\n",
      "You guessed it in 3 tries.\n",
      "\n",
      "Would you like to play again? (y/n): n\n",
      "\n",
      "Bye!\n"
     ]
    }
   ],
   "source": [
    "import random\n",
    "\n",
    "LIMIT = 10\n",
    "\n",
    "def display_title():\n",
    "    print(\"Guess the number!\")\n",
    "    print()\n",
    "\n",
    "def play_game():    \n",
    "    number = random.randint(1, LIMIT)\n",
    "    print(f\"I'm thinking of a number from 1 to {LIMIT}\\n\")\n",
    "    count = 1\n",
    "\n",
    "    while (guess := int(input(\"Your guess: \"))) != number:\n",
    "        if guess < number:\n",
    "            print(\"Too low.\")\n",
    "            count += 1\n",
    "        elif guess > number:\n",
    "            print(\"Too high.\")\n",
    "            count += 1\n",
    "    print(f\"You guessed it in {count} tries.\\n\")\n",
    "     \n",
    "def main():\n",
    "    display_title()\n",
    "    again = \"y\"\n",
    "    while again.lower() == \"y\":\n",
    "        play_game()\n",
    "        again = input(\"Would you like to play again? (y/n): \")\n",
    "        print()\n",
    "    print(\"Bye!\")\n",
    "\n",
    "# if started as the main module, call the main function\n",
    "if __name__ == \"__main__\":\n",
    "    main()"
   ]
  }
 ],
 "metadata": {
  "kernelspec": {
   "display_name": "Python 3 (ipykernel)",
   "language": "python",
   "name": "python3"
  },
  "language_info": {
   "codemirror_mode": {
    "name": "ipython",
    "version": 3
   },
   "file_extension": ".py",
   "mimetype": "text/x-python",
   "name": "python",
   "nbconvert_exporter": "python",
   "pygments_lexer": "ipython3",
   "version": "3.11.5"
  }
 },
 "nbformat": 4,
 "nbformat_minor": 5
}
