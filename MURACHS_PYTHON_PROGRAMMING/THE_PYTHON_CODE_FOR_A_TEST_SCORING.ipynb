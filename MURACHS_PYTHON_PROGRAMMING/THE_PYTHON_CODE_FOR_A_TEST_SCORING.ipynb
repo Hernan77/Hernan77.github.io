{
 "cells": [
  {
   "cell_type": "markdown",
   "id": "d1aa1b89",
   "metadata": {},
   "source": [
    "# THE PYTHON CODE FOR A TEST SCORING\n",
    "\n",
    "<br>Hernan Chavez, 2024<br/>\n",
    "Ref. Michael Urban, Joel Murach, and Mike Murach. 2016. Murach's Python Programming. Mike Murach & Associates<br/>"
   ]
  },
  {
   "cell_type": "code",
   "execution_count": 1,
   "id": "92849ee7",
   "metadata": {},
   "outputs": [
    {
     "name": "stdout",
     "output_type": "stream",
     "text": [
      "Enter test score: 10\n",
      "Enter test score: 25\n",
      "Enter test score: 30\n",
      "Enter test score: 40\n",
      "Enter test score: 50\n",
      "Enter test score: 65\n",
      "Enter test score: 72\n",
      "Enter test score: 80\n",
      "Enter test score: 200\n",
      "Enter test score: 999\n",
      "Total Score: 372\n",
      "Average Score: 46\n"
     ]
    }
   ],
   "source": [
    "counter = 0\n",
    "score_total = 0\n",
    "test_score = 0\n",
    "\n",
    "while test_score != 999:\n",
    "    test_score = int(input(\"Enter test score: \"))\n",
    "    if test_score >= 0 and test_score <= 100:\n",
    "        score_total += test_score\n",
    "        counter += 1\n",
    "        \n",
    "average_score = round(score_total / counter)\n",
    "\n",
    "print(\"Total Score: \" + str(score_total) \\\n",
    "      + \"\\nAverage Score: \" + str(average_score))"
   ]
  }
 ],
 "metadata": {
  "kernelspec": {
   "display_name": "Python 3 (ipykernel)",
   "language": "python",
   "name": "python3"
  },
  "language_info": {
   "codemirror_mode": {
    "name": "ipython",
    "version": 3
   },
   "file_extension": ".py",
   "mimetype": "text/x-python",
   "name": "python",
   "nbconvert_exporter": "python",
   "pygments_lexer": "ipython3",
   "version": "3.11.5"
  }
 },
 "nbformat": 4,
 "nbformat_minor": 5
}
