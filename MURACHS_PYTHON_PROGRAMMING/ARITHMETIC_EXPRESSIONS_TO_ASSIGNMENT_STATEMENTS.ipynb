{
 "cells": [
  {
   "cell_type": "markdown",
   "id": "807012ed",
   "metadata": {},
   "source": [
    "# ARITHMETIC EXPRESSIONS TO ASSIGNMENT STATEMENTS\n",
    "\n",
    "<br>Hernan Chavez, 2024<br/>\n",
    "Ref. Michael Urban, Joel Murach, and Mike Murach. 2016. Murach's Python Programming. Mike Murach & Associates"
   ]
  },
  {
   "cell_type": "code",
   "execution_count": 1,
   "id": "6b7cd413",
   "metadata": {},
   "outputs": [
    {
     "name": "stdout",
     "output_type": "stream",
     "text": [
      "10.0\n",
      "210.0\n"
     ]
    }
   ],
   "source": [
    "# Code that calculates sales tax\n",
    "subtotal = 200.00\n",
    "tax_percent = .05\n",
    "tax_amount = subtotal * tax_percent  # 10.0\n",
    "grand_total = subtotal + tax_amount  # 210.0\n",
    "print(tax_amount)\n",
    "print(grand_total)"
   ]
  },
  {
   "cell_type": "code",
   "execution_count": 2,
   "id": "a614b42d",
   "metadata": {},
   "outputs": [
    {
     "name": "stdout",
     "output_type": "stream",
     "text": [
      "25.5\n"
     ]
    }
   ],
   "source": [
    "# Code that calculates the perimeters of as rectangle\n",
    "width = 4.25\n",
    "length = 8.5\n",
    "perimieter = (2 * width) + (2 * length)  # (8.5 + 17) = 25.5\n",
    "print(perimieter)"
   ]
  },
  {
   "cell_type": "code",
   "execution_count": 3,
   "id": "867e52d7",
   "metadata": {},
   "outputs": [
    {
     "name": "stdout",
     "output_type": "stream",
     "text": [
      "1\n",
      "2\n"
     ]
    }
   ],
   "source": [
    "# Two ways to increment the number in a variable\n",
    "counter = 0\n",
    "counter = counter + 1  # counter = 1\n",
    "print(counter)\n",
    "counter += 1           # counter = 2\n",
    "print(counter)"
   ]
  },
  {
   "cell_type": "code",
   "execution_count": 4,
   "id": "ecf93fd9",
   "metadata": {},
   "outputs": [
    {
     "name": "stdout",
     "output_type": "stream",
     "text": [
      "0\n",
      "70\n",
      "150\n"
     ]
    }
   ],
   "source": [
    "# Code that adds two numbers to a variable\n",
    "score_total = 0      # score_total = 0\n",
    "print(score_total)\n",
    "score_total += 70    # score_total = 70\n",
    "print(score_total)\n",
    "score_total += 80    # score_total = 150\n",
    "print(score_total)"
   ]
  },
  {
   "cell_type": "code",
   "execution_count": 5,
   "id": "7be33fa2",
   "metadata": {},
   "outputs": [
    {
     "name": "stdout",
     "output_type": "stream",
     "text": [
      "1100.0\n",
      "9\n",
      "80.0\n"
     ]
    }
   ],
   "source": [
    "# More statements that user the compound assignment operators\n",
    "total = 1000.0\n",
    "total += 100.0   # total = 1100.0\n",
    "print(total)\n",
    "counter = 10\n",
    "counter -= 1     # counter = 9\n",
    "print(counter)\n",
    "price = 100\n",
    "price *= .8       # price = 80.0\n",
    "print(price)"
   ]
  },
  {
   "cell_type": "code",
   "execution_count": 6,
   "id": "3e899256",
   "metadata": {},
   "outputs": [
    {
     "name": "stdout",
     "output_type": "stream",
     "text": [
      "74.95\n",
      "7.495000000000001\n"
     ]
    }
   ],
   "source": [
    "# A floating-point result that isn't precise\n",
    "subtotal = 74.95         # subtotal = 74.95\n",
    "print(subtotal)\n",
    "tax = subtotal * .1      # tax = 7.495000000000001\n",
    "print(tax)"
   ]
  }
 ],
 "metadata": {
  "kernelspec": {
   "display_name": "Python 3 (ipykernel)",
   "language": "python",
   "name": "python3"
  },
  "language_info": {
   "codemirror_mode": {
    "name": "ipython",
    "version": 3
   },
   "file_extension": ".py",
   "mimetype": "text/x-python",
   "name": "python",
   "nbconvert_exporter": "python",
   "pygments_lexer": "ipython3",
   "version": "3.11.5"
  }
 },
 "nbformat": 4,
 "nbformat_minor": 5
}
