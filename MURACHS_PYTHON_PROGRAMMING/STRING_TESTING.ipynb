{
 "cells": [
  {
   "cell_type": "markdown",
   "id": "e9ea9b89",
   "metadata": {},
   "source": [
    "# STRING TESTING\n",
    "\n",
    "<br>Hernan Chavez, 2024<br/>\n",
    "Ref. Michael Urban, Joel Murach, and Mike Murach. 2016. Murach's Python Programming. Mike Murach & Associates"
   ]
  },
  {
   "cell_type": "code",
   "execution_count": 1,
   "id": "7d95f783",
   "metadata": {},
   "outputs": [
    {
     "data": {
      "text/plain": [
       "'Joel'"
      ]
     },
     "execution_count": 1,
     "metadata": {},
     "output_type": "execute_result"
    }
   ],
   "source": [
    "first_name = \"Joel\"\n",
    "first_name"
   ]
  },
  {
   "cell_type": "code",
   "execution_count": 2,
   "id": "87fe2ab8",
   "metadata": {},
   "outputs": [
    {
     "data": {
      "text/plain": [
       "'Smith'"
      ]
     },
     "execution_count": 2,
     "metadata": {},
     "output_type": "execute_result"
    }
   ],
   "source": [
    "last_name = \"Smith\"\n",
    "last_name"
   ]
  },
  {
   "cell_type": "code",
   "execution_count": 3,
   "id": "0a1bf030",
   "metadata": {},
   "outputs": [
    {
     "data": {
      "text/plain": [
       "'Smith, Joel'"
      ]
     },
     "execution_count": 3,
     "metadata": {},
     "output_type": "execute_result"
    }
   ],
   "source": [
    "full_name = last_name + \", \" + first_name\n",
    "full_name"
   ]
  },
  {
   "cell_type": "code",
   "execution_count": 4,
   "id": "5125d9d8",
   "metadata": {},
   "outputs": [
    {
     "ename": "SyntaxError",
     "evalue": "invalid syntax (1252998012.py, line 2)",
     "output_type": "error",
     "traceback": [
      "\u001b[0;36m  Cell \u001b[0;32mIn[4], line 2\u001b[0;36m\u001b[0m\n\u001b[0;31m    message = first_name + \" is \" str(age) + \" years old.\"\u001b[0m\n\u001b[0m                                  ^\u001b[0m\n\u001b[0;31mSyntaxError\u001b[0m\u001b[0;31m:\u001b[0m invalid syntax\n"
     ]
    }
   ],
   "source": [
    "age = 40\n",
    "message = first_name + \" is \" str(age) + \" years old.\"\n",
    "message"
   ]
  },
  {
   "cell_type": "code",
   "execution_count": 5,
   "id": "957124c4",
   "metadata": {},
   "outputs": [
    {
     "data": {
      "text/plain": [
       "'Joel is 40 years old.'"
      ]
     },
     "execution_count": 5,
     "metadata": {},
     "output_type": "execute_result"
    }
   ],
   "source": [
    "age = 40\n",
    "message = first_name + \" is \" + str(age) + \" years old.\"\n",
    "message"
   ]
  },
  {
   "cell_type": "code",
   "execution_count": 6,
   "id": "a08f25ff",
   "metadata": {},
   "outputs": [
    {
     "ename": "TypeError",
     "evalue": "can only concatenate str (not \"int\") to str",
     "output_type": "error",
     "traceback": [
      "\u001b[0;31m---------------------------------------------------------------------------\u001b[0m",
      "\u001b[0;31mTypeError\u001b[0m                                 Traceback (most recent call last)",
      "Cell \u001b[0;32mIn[6], line 2\u001b[0m\n\u001b[1;32m      1\u001b[0m age \u001b[38;5;241m=\u001b[39m \u001b[38;5;241m40\u001b[39m\n\u001b[0;32m----> 2\u001b[0m message \u001b[38;5;241m=\u001b[39m \u001b[38;5;124m\"\u001b[39m\u001b[38;5;124mAge: \u001b[39m\u001b[38;5;124m\"\u001b[39m \u001b[38;5;241m+\u001b[39m age\n\u001b[1;32m      3\u001b[0m message\n",
      "\u001b[0;31mTypeError\u001b[0m: can only concatenate str (not \"int\") to str"
     ]
    }
   ],
   "source": [
    "age = 40\n",
    "message = \"Age: \" + age\n",
    "message"
   ]
  },
  {
   "cell_type": "code",
   "execution_count": 7,
   "id": "17f4f90c",
   "metadata": {},
   "outputs": [
    {
     "data": {
      "text/plain": [
       "'Age: 40'"
      ]
     },
     "execution_count": 7,
     "metadata": {},
     "output_type": "execute_result"
    }
   ],
   "source": [
    "age = 40\n",
    "message = \"Age: \" + str(age)\n",
    "message"
   ]
  }
 ],
 "metadata": {
  "kernelspec": {
   "display_name": "Python 3 (ipykernel)",
   "language": "python",
   "name": "python3"
  },
  "language_info": {
   "codemirror_mode": {
    "name": "ipython",
    "version": 3
   },
   "file_extension": ".py",
   "mimetype": "text/x-python",
   "name": "python",
   "nbconvert_exporter": "python",
   "pygments_lexer": "ipython3",
   "version": "3.11.5"
  }
 },
 "nbformat": 4,
 "nbformat_minor": 5
}
