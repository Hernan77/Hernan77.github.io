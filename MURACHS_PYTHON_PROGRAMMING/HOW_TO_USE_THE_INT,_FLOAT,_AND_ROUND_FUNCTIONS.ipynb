{
 "cells": [
  {
   "cell_type": "markdown",
   "id": "c1c86960",
   "metadata": {},
   "source": [
    "# HOW TO USE THE INT(), FLOAT(), AND ROUND() FUNCTIONS \n",
    "\n",
    "<br>Hernan Chavez, 2024<br/>\n",
    "Ref. Michael Urban, Joel Murach, and Mike Murach. 2016. Murach's Python Programming. Mike Murach & Associates"
   ]
  },
  {
   "cell_type": "code",
   "execution_count": 3,
   "id": "4738fa6e",
   "metadata": {},
   "outputs": [
    {
     "ename": "TypeError",
     "evalue": "unsupported operand type(s) for +: 'int' and 'str'",
     "output_type": "error",
     "traceback": [
      "\u001b[0;31m---------------------------------------------------------------------------\u001b[0m",
      "\u001b[0;31mTypeError\u001b[0m                                 Traceback (most recent call last)",
      "Cell \u001b[0;32mIn[3], line 4\u001b[0m\n\u001b[1;32m      2\u001b[0m x \u001b[38;5;241m=\u001b[39m \u001b[38;5;241m15\u001b[39m\n\u001b[1;32m      3\u001b[0m y \u001b[38;5;241m=\u001b[39m \u001b[38;5;124m\"\u001b[39m\u001b[38;5;124m5\u001b[39m\u001b[38;5;124m\"\u001b[39m\n\u001b[0;32m----> 4\u001b[0m z \u001b[38;5;241m=\u001b[39m x \u001b[38;5;241m+\u001b[39m y\n",
      "\u001b[0;31mTypeError\u001b[0m: unsupported operand type(s) for +: 'int' and 'str'"
     ]
    }
   ],
   "source": [
    "# Code that causes an exception\n",
    "x = 15\n",
    "y = \"5\"\n",
    "z = x + y   # TypeError: can't add an int to a str"
   ]
  },
  {
   "cell_type": "code",
   "execution_count": 4,
   "id": "907ae095",
   "metadata": {},
   "outputs": [
    {
     "data": {
      "text/plain": [
       "20"
      ]
     },
     "execution_count": 4,
     "metadata": {},
     "output_type": "execute_result"
    }
   ],
   "source": [
    "# How  using the int() function fixes the exception\n",
    "x = 15\n",
    "y = \"5\"\n",
    "z = x + int(y)     # z is 20\n",
    "z"
   ]
  },
  {
   "cell_type": "code",
   "execution_count": 5,
   "id": "3bd8bbca",
   "metadata": {},
   "outputs": [
    {
     "name": "stdout",
     "output_type": "stream",
     "text": [
      "Enter the quantity: 5\n"
     ]
    },
    {
     "data": {
      "text/plain": [
       "5"
      ]
     },
     "execution_count": 5,
     "metadata": {},
     "output_type": "execute_result"
    }
   ],
   "source": [
    "# Code that gets an int value from the user\n",
    "quantity = input(\"Enter the quantity: \")   # quantity is str type\n",
    "quantity = int(quantity)                   # quantity is int type\n",
    "quantity"
   ]
  },
  {
   "cell_type": "code",
   "execution_count": 6,
   "id": "7e10230e",
   "metadata": {},
   "outputs": [
    {
     "name": "stdout",
     "output_type": "stream",
     "text": [
      "Enter the quantity: 5\n"
     ]
    },
    {
     "data": {
      "text/plain": [
       "5"
      ]
     },
     "execution_count": 6,
     "metadata": {},
     "output_type": "execute_result"
    }
   ],
   "source": [
    "# How to use chaining to get the int value in one statement\n",
    "quantity = int(input(\"Enter the quantity: \"))\n",
    "quantity"
   ]
  },
  {
   "cell_type": "code",
   "execution_count": 7,
   "id": "78568429",
   "metadata": {},
   "outputs": [
    {
     "name": "stdout",
     "output_type": "stream",
     "text": [
      "Enter the price: 3.5\n"
     ]
    },
    {
     "data": {
      "text/plain": [
       "3.5"
      ]
     },
     "execution_count": 7,
     "metadata": {},
     "output_type": "execute_result"
    }
   ],
   "source": [
    "# Code that gets a float value from the user\n",
    "price = input(\"Enter the price: \")\n",
    "price = float(price)\n",
    "price"
   ]
  },
  {
   "cell_type": "code",
   "execution_count": 8,
   "id": "5ba243af",
   "metadata": {},
   "outputs": [
    {
     "name": "stdout",
     "output_type": "stream",
     "text": [
      "Enter the price: 3.5\n"
     ]
    },
    {
     "data": {
      "text/plain": [
       "3.5"
      ]
     },
     "execution_count": 8,
     "metadata": {},
     "output_type": "execute_result"
    }
   ],
   "source": [
    "# How to use chaining to get the float value in one statement\n",
    "price = float(input(\"Enter the price: \"))\n",
    "price"
   ]
  },
  {
   "cell_type": "code",
   "execution_count": 9,
   "id": "8f4c2508",
   "metadata": {},
   "outputs": [
    {
     "data": {
      "text/plain": [
       "25.53"
      ]
     },
     "execution_count": 9,
     "metadata": {},
     "output_type": "execute_result"
    }
   ],
   "source": [
    "# Code that use the round() function\n",
    "miles_driven = 150\n",
    "gallons_used = 5.875\n",
    "mpg = miles_driven / gallons_used    # mpg = 25.53191489361702\n",
    "mpg = round(mpg, 2)                  # mpg = 25.53\n",
    "mpg"
   ]
  },
  {
   "cell_type": "code",
   "execution_count": 10,
   "id": "ff27844c",
   "metadata": {},
   "outputs": [
    {
     "data": {
      "text/plain": [
       "25.53"
      ]
     },
     "execution_count": 10,
     "metadata": {},
     "output_type": "execute_result"
    }
   ],
   "source": [
    "# How to combine the last two statements\n",
    "mpg = round(miles_driven / gallons_used, 2)\n",
    "mpg"
   ]
  }
 ],
 "metadata": {
  "kernelspec": {
   "display_name": "Python 3 (ipykernel)",
   "language": "python",
   "name": "python3"
  },
  "language_info": {
   "codemirror_mode": {
    "name": "ipython",
    "version": 3
   },
   "file_extension": ".py",
   "mimetype": "text/x-python",
   "name": "python",
   "nbconvert_exporter": "python",
   "pygments_lexer": "ipython3",
   "version": "3.11.5"
  }
 },
 "nbformat": 4,
 "nbformat_minor": 5
}
