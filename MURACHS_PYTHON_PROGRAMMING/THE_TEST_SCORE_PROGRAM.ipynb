{
 "cells": [
  {
   "cell_type": "markdown",
   "id": "2f0bf709",
   "metadata": {},
   "source": [
    "# THE TEST SCORE PROGRAM\n",
    "\n",
    "<br>Hernan Chavez, 2024<br/>\n",
    "Ref. Michael Urban, Joel Murach, and Mike Murach. 2016. Murach's Python Programming. Mike Murach & Associates"
   ]
  },
  {
   "cell_type": "code",
   "execution_count": 1,
   "id": "d69129a0",
   "metadata": {},
   "outputs": [
    {
     "name": "stdout",
     "output_type": "stream",
     "text": [
      "The Test Scores program\n",
      "\n",
      "Enter 3 test scores\n",
      "=====================\n",
      "Enter test score: 75\n",
      "Enter test score: 85\n",
      "Enter test score: 95\n",
      "=====================\n",
      "Total Score:  255.0 \n",
      "Average Score:  85\n",
      "\n",
      "Bye\n"
     ]
    }
   ],
   "source": [
    "# display a title\n",
    "print(\"The Test Scores program\")\n",
    "print()\n",
    "print(\"Enter 3 test scores\")\n",
    "print(\"=====================\")\n",
    "\n",
    "# get scores from the user and accumulate the total\n",
    "total_score = 0.                                   # initialize the variable for accumulating scores\n",
    "total_score += int(input(\"Enter test score: \"))\n",
    "total_score += int(input(\"Enter test score: \"))\n",
    "total_score += int(input(\"Enter test score: \"))\n",
    "\n",
    "# calculate average score\n",
    "average_score = round(total_score / 3)\n",
    "\n",
    "# format and display the result\n",
    "print(\"=====================\")\n",
    "print(\"Total Score: \", total_score, \n",
    "      \"\\nAverage Score: \", average_score)\n",
    "print()\n",
    "print(\"Bye\")"
   ]
  }
 ],
 "metadata": {
  "kernelspec": {
   "display_name": "Python 3 (ipykernel)",
   "language": "python",
   "name": "python3"
  },
  "language_info": {
   "codemirror_mode": {
    "name": "ipython",
    "version": 3
   },
   "file_extension": ".py",
   "mimetype": "text/x-python",
   "name": "python",
   "nbconvert_exporter": "python",
   "pygments_lexer": "ipython3",
   "version": "3.11.5"
  }
 },
 "nbformat": 4,
 "nbformat_minor": 5
}
