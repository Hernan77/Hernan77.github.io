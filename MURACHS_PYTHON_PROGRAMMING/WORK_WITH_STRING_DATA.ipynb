{
 "cells": [
  {
   "cell_type": "markdown",
   "id": "0ca84025",
   "metadata": {},
   "source": [
    "# WORK WITH STRING DATA\n",
    "\n",
    "<br>Hernan Chavez, 2024<br/>\n",
    "Ref. Michael Urban, Joel Murach, and Mike Murach. 2016. Murach's Python Programming. Mike Murach & Associates"
   ]
  },
  {
   "cell_type": "code",
   "execution_count": 1,
   "id": "a78d60b5",
   "metadata": {},
   "outputs": [
    {
     "name": "stdout",
     "output_type": "stream",
     "text": [
      "Bob\n",
      "Smith\n",
      "\n",
      "Bob Smith\n"
     ]
    }
   ],
   "source": [
    "# How to assign strings to variablres\n",
    "first_name = \"Bob\"    # first_name = Bob\n",
    "print(first_name)\n",
    "last_name = 'Smith'   # last_name = Smith\n",
    "print(last_name)\n",
    "name = \"\"             # name = empty string\n",
    "print(name)\n",
    "name = \"Bob Smith\"      # name = Bob Smith\n",
    "print(name)"
   ]
  },
  {
   "cell_type": "code",
   "execution_count": 2,
   "id": "27092aa9",
   "metadata": {},
   "outputs": [
    {
     "name": "stdout",
     "output_type": "stream",
     "text": [
      "Smith, Bob\n"
     ]
    }
   ],
   "source": [
    "# How to join three strings with the + operator\n",
    "name = last_name + \", \" + first_name  # name is \"Smith, Bob\"\n",
    "print(name)"
   ]
  },
  {
   "cell_type": "code",
   "execution_count": 3,
   "id": "aebf906a",
   "metadata": {},
   "outputs": [
    {
     "name": "stdout",
     "output_type": "stream",
     "text": [
      "Bob Smith is 40 years old.\n"
     ]
    }
   ],
   "source": [
    "# How to join a string and a number with the str() function\n",
    "name = \"Bob Smith\"\n",
    "age = 40\n",
    "message = name + \" is \" + str(age) + \" years old.\"\n",
    "print(message)"
   ]
  },
  {
   "cell_type": "code",
   "execution_count": 4,
   "id": "614b5aa5",
   "metadata": {},
   "outputs": [
    {
     "ename": "TypeError",
     "evalue": "can only concatenate str (not \"int\") to str",
     "output_type": "error",
     "traceback": [
      "\u001b[0;31m---------------------------------------------------------------------------\u001b[0m",
      "\u001b[0;31mTypeError\u001b[0m                                 Traceback (most recent call last)",
      "Cell \u001b[0;32mIn[4], line 2\u001b[0m\n\u001b[1;32m      1\u001b[0m \u001b[38;5;66;03m# What happens if you don't use the str() function\u001b[39;00m\n\u001b[0;32m----> 2\u001b[0m message \u001b[38;5;241m=\u001b[39m name \u001b[38;5;241m+\u001b[39m \u001b[38;5;124m\"\u001b[39m\u001b[38;5;124m is \u001b[39m\u001b[38;5;124m\"\u001b[39m \u001b[38;5;241m+\u001b[39m age \u001b[38;5;241m+\u001b[39m \u001b[38;5;124m\"\u001b[39m\u001b[38;5;124myears old.\u001b[39m\u001b[38;5;124m\"\u001b[39m\n",
      "\u001b[0;31mTypeError\u001b[0m: can only concatenate str (not \"int\") to str"
     ]
    }
   ],
   "source": [
    "# What happens if you don't use the str() function\n",
    "message = name + \" is \" + age + \"years old.\""
   ]
  },
  {
   "cell_type": "code",
   "execution_count": 5,
   "id": "39e96a50",
   "metadata": {},
   "outputs": [
    {
     "name": "stdout",
     "output_type": "stream",
     "text": [
      "Total Score: 50\n",
      "Average Score: 70\n"
     ]
    }
   ],
   "source": [
    "# implicit continuation of a string over several coding lines\n",
    "score_total = 50\n",
    "average_score = 70\n",
    "print(\"Total Score: \" \n",
    "      + str(score_total) \n",
    "      + \"\\nAverage Score: \" \n",
    "      + str(average_score))"
   ]
  }
 ],
 "metadata": {
  "kernelspec": {
   "display_name": "Python 3 (ipykernel)",
   "language": "python",
   "name": "python3"
  },
  "language_info": {
   "codemirror_mode": {
    "name": "ipython",
    "version": 3
   },
   "file_extension": ".py",
   "mimetype": "text/x-python",
   "name": "python",
   "nbconvert_exporter": "python",
   "pygments_lexer": "ipython3",
   "version": "3.11.5"
  }
 },
 "nbformat": 4,
 "nbformat_minor": 5
}
