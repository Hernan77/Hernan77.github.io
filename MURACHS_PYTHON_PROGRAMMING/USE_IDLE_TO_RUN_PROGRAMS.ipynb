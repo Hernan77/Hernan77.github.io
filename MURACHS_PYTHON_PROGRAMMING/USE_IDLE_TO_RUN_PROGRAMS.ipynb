{
 "cells": [
  {
   "cell_type": "markdown",
   "id": "83166f3a",
   "metadata": {},
   "source": [
    "# USE IDLE TO RUN PROGRAMS\n",
    "\n",
    "<br>Hernan Chavez, 2024<br/>\n",
    "Ref. Michael Urban, Joel Murach, and Mike Murach. 2016. Murach's Python Programming. Mike Murach & Associates<br>"
   ]
  },
  {
   "cell_type": "code",
   "execution_count": 1,
   "id": "19281d21",
   "metadata": {},
   "outputs": [
    {
     "name": "stdout",
     "output_type": "stream",
     "text": [
      "Welcome to the Future Value Calculator\n",
      "\n",
      "Enter monthly investment:\t400\n",
      "Enter yearly interest rate:\t4.025\n",
      "Enter number of years:\t\t18\n",
      "Future value:\t\t\t$126,977.36\n",
      "\n",
      "Continue? (y/n): n\n",
      "\n",
      "Bye!\n"
     ]
    }
   ],
   "source": [
    "import locale\n",
    "\n",
    "# set the locale for use in currency formatting\n",
    "locale.setlocale(locale.LC_ALL, 'en_US')\n",
    "\n",
    "# display a welcome message\n",
    "print(\"Welcome to the Future Value Calculator\")\n",
    "print()\n",
    "\n",
    "choice = \"y\"\n",
    "while choice.lower() == \"y\":\n",
    "\n",
    "    # get input from the user\n",
    "    monthly_investment = float(input(\"Enter monthly investment:\\t\"))\n",
    "    yearly_interest_rate = float(input(\"Enter yearly interest rate:\\t\"))\n",
    "    years = int(input(\"Enter number of years:\\t\\t\"))\n",
    "\n",
    "    # convert yearly values to monthly values\n",
    "    monthly_interest_rate = yearly_interest_rate / 12 / 100\n",
    "    months = years * 12\n",
    "\n",
    "    # calculate the future value\n",
    "    future_value = 0\n",
    "    for i in range(months):\n",
    "        future_value = future_value + monthly_investment\n",
    "        monthly_interest_amount = future_value * monthly_interest_rate\n",
    "        future_value = future_value + monthly_interest_amount\n",
    "\n",
    "    # format and display the result\n",
    "    print(\"Future value:\\t\\t\\t\" + locale.currency(\n",
    "        future_value, grouping=True))\n",
    "    print()\n",
    "\n",
    "    # see if the user wants to continue\n",
    "    choice = input(\"Continue? (y/n): \")\n",
    "    print()\n",
    "\n",
    "print(\"Bye!\")"
   ]
  }
 ],
 "metadata": {
  "kernelspec": {
   "display_name": "Python 3 (ipykernel)",
   "language": "python",
   "name": "python3"
  },
  "language_info": {
   "codemirror_mode": {
    "name": "ipython",
    "version": 3
   },
   "file_extension": ".py",
   "mimetype": "text/x-python",
   "name": "python",
   "nbconvert_exporter": "python",
   "pygments_lexer": "ipython3",
   "version": "3.11.5"
  }
 },
 "nbformat": 4,
 "nbformat_minor": 5
}
