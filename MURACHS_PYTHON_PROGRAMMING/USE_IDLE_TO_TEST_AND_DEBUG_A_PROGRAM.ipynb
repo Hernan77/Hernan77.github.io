{
 "cells": [
  {
   "cell_type": "markdown",
   "id": "3b56b8ce",
   "metadata": {},
   "source": [
    "# USE IDLE TO TEST AND DEBUG A PROGRAM\n",
    "\n",
    "<br>Hernan Chavez, 2024<br/>\n",
    "Ref. Michael Urban, Joel Murach, and Mike Murach. 2016. Murach's Python Programming. Mike Murach & Associates<br/>"
   ]
  },
  {
   "cell_type": "code",
   "execution_count": 1,
   "id": "a5296c3b",
   "metadata": {},
   "outputs": [
    {
     "ename": "SyntaxError",
     "evalue": "'(' was never closed (2874042565.py, line 15)",
     "output_type": "error",
     "traceback": [
      "\u001b[0;36m  Cell \u001b[0;32mIn[1], line 15\u001b[0;36m\u001b[0m\n\u001b[0;31m    yearly_interest_rate = float(input(\"Enter yearly interest rate:\\t\")\u001b[0m\n\u001b[0m                                ^\u001b[0m\n\u001b[0;31mSyntaxError\u001b[0m\u001b[0;31m:\u001b[0m '(' was never closed\n"
     ]
    }
   ],
   "source": [
    "import locale\n",
    "\n",
    "# set the locale for use in currency formatting\n",
    "locale.setlocale(locale.LC_ALL, 'en_US')\n",
    "\n",
    "# display a welcome message\n",
    "print(\"Welcome to the Future Value Calculator\")\n",
    "print()\n",
    "\n",
    "choice = \"y\"\n",
    "while choice.lower() == \"y\":\n",
    "\n",
    "    # get input from the user\n",
    "    monthly_investment = float(input(\"Enter monthly investment:\\t\"))\n",
    "    yearly_interest_rate = float(input(\"Enter yearly interest rate:\\t\")\n",
    "    years = int(input(\"Enter number of years:\\t\\t\"))\n",
    "\n",
    "    # convert yearly values to monthly values\n",
    "    monthly_interest_rate = yearly_interest_rate / 12 / 100\n",
    "    months = year * 12\n",
    "\n",
    "    # calculate the future value\n",
    "    future_value = 0\n",
    "    for i in range(months):\n",
    "        future_value = future_value + monthly_investment\n",
    "        monthly_interest_amount = future_value * monthly_interest_rate\n",
    "        future_value = future_value + monthly_interest_amount\n",
    "\n",
    "    # format and display the result\n",
    "    print(\"Future value:\\t\\t\\t\" + locale.currency(\n",
    "        future_value, grouping=True))\n",
    "    print()\n",
    "\n",
    "    # see if the user wants to continue\n",
    "    choice = input(\"Continue? (y/n): \")\n",
    "    print()\n",
    "\n",
    "print(\"Bye!\")"
   ]
  },
  {
   "cell_type": "code",
   "execution_count": 2,
   "id": "fb1a8979",
   "metadata": {},
   "outputs": [
    {
     "name": "stdout",
     "output_type": "stream",
     "text": [
      "Welcome to the Future Value Calculator\n",
      "\n",
      "Enter monthly investment:\t1000\n",
      "Enter yearly interest rate:\t4.025\n",
      "Enter number of years:\t\t19\n"
     ]
    },
    {
     "ename": "NameError",
     "evalue": "name 'year' is not defined",
     "output_type": "error",
     "traceback": [
      "\u001b[0;31m---------------------------------------------------------------------------\u001b[0m",
      "\u001b[0;31mNameError\u001b[0m                                 Traceback (most recent call last)",
      "Cell \u001b[0;32mIn[2], line 20\u001b[0m\n\u001b[1;32m     18\u001b[0m \u001b[38;5;66;03m# convert yearly values to monthly values\u001b[39;00m\n\u001b[1;32m     19\u001b[0m monthly_interest_rate \u001b[38;5;241m=\u001b[39m yearly_interest_rate \u001b[38;5;241m/\u001b[39m \u001b[38;5;241m12\u001b[39m \u001b[38;5;241m/\u001b[39m \u001b[38;5;241m100\u001b[39m\n\u001b[0;32m---> 20\u001b[0m months \u001b[38;5;241m=\u001b[39m year \u001b[38;5;241m*\u001b[39m \u001b[38;5;241m12\u001b[39m\n\u001b[1;32m     22\u001b[0m \u001b[38;5;66;03m# calculate the future value\u001b[39;00m\n\u001b[1;32m     23\u001b[0m future_value \u001b[38;5;241m=\u001b[39m \u001b[38;5;241m0\u001b[39m\n",
      "\u001b[0;31mNameError\u001b[0m: name 'year' is not defined"
     ]
    }
   ],
   "source": [
    "import locale\n",
    "\n",
    "# set the locale for use in currency formatting\n",
    "locale.setlocale(locale.LC_ALL, 'en_US')\n",
    "\n",
    "# display a welcome message\n",
    "print(\"Welcome to the Future Value Calculator\")\n",
    "print()\n",
    "\n",
    "choice = \"y\"\n",
    "while choice.lower() == \"y\":\n",
    "\n",
    "    # get input from the user\n",
    "    monthly_investment = float(input(\"Enter monthly investment:\\t\"))\n",
    "    yearly_interest_rate = float(input(\"Enter yearly interest rate:\\t\"))\n",
    "    years = int(input(\"Enter number of years:\\t\\t\"))\n",
    "\n",
    "    # convert yearly values to monthly values\n",
    "    monthly_interest_rate = yearly_interest_rate / 12 / 100\n",
    "    months = year * 12\n",
    "\n",
    "    # calculate the future value\n",
    "    future_value = 0\n",
    "    for i in range(months):\n",
    "        future_value = future_value + monthly_investment\n",
    "        monthly_interest_amount = future_value * monthly_interest_rate\n",
    "        future_value = future_value + monthly_interest_amount\n",
    "\n",
    "    # format and display the result\n",
    "    print(\"Future value:\\t\\t\\t\" + locale.currency(\n",
    "        future_value, grouping=True))\n",
    "    print()\n",
    "\n",
    "    # see if the user wants to continue\n",
    "    choice = input(\"Continue? (y/n): \")\n",
    "    print()\n",
    "\n",
    "print(\"Bye!\")"
   ]
  },
  {
   "cell_type": "code",
   "execution_count": 3,
   "id": "8db727d4",
   "metadata": {},
   "outputs": [
    {
     "name": "stdout",
     "output_type": "stream",
     "text": [
      "Welcome to the Future Value Calculator\n",
      "\n",
      "Enter monthly investment:\t100\n",
      "Enter yearly interest rate:\t4.025\n",
      "Enter number of years:\t\t19\n",
      "Future value:\t\t\t$34,272.37\n",
      "\n",
      "Continue? (y/n): n\n",
      "\n",
      "Bye!\n"
     ]
    }
   ],
   "source": [
    "import locale\n",
    "\n",
    "# set the locale for use in currency formatting\n",
    "locale.setlocale(locale.LC_ALL, 'en_US')\n",
    "\n",
    "# display a welcome message\n",
    "print(\"Welcome to the Future Value Calculator\")\n",
    "print()\n",
    "\n",
    "choice = \"y\"\n",
    "while choice.lower() == \"y\":\n",
    "\n",
    "    # get input from the user\n",
    "    monthly_investment = float(input(\"Enter monthly investment:\\t\"))\n",
    "    yearly_interest_rate = float(input(\"Enter yearly interest rate:\\t\"))\n",
    "    years = int(input(\"Enter number of years:\\t\\t\"))\n",
    "\n",
    "    # convert yearly values to monthly values\n",
    "    monthly_interest_rate = yearly_interest_rate / 12 / 100\n",
    "    months = years * 12\n",
    "\n",
    "    # calculate the future value\n",
    "    future_value = 0\n",
    "    for i in range(months):\n",
    "        future_value = future_value + monthly_investment\n",
    "        monthly_interest_amount = future_value * monthly_interest_rate\n",
    "        future_value = future_value + monthly_interest_amount\n",
    "\n",
    "    # format and display the result\n",
    "    print(\"Future value:\\t\\t\\t\" + locale.currency(\n",
    "        future_value, grouping=True))\n",
    "    print()\n",
    "\n",
    "    # see if the user wants to continue\n",
    "    choice = input(\"Continue? (y/n): \")\n",
    "    print()\n",
    "\n",
    "print(\"Bye!\")"
   ]
  }
 ],
 "metadata": {
  "kernelspec": {
   "display_name": "Python 3 (ipykernel)",
   "language": "python",
   "name": "python3"
  },
  "language_info": {
   "codemirror_mode": {
    "name": "ipython",
    "version": 3
   },
   "file_extension": ".py",
   "mimetype": "text/x-python",
   "name": "python",
   "nbconvert_exporter": "python",
   "pygments_lexer": "ipython3",
   "version": "3.11.5"
  }
 },
 "nbformat": 4,
 "nbformat_minor": 5
}
