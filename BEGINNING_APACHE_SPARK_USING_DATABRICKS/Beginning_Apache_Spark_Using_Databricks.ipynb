{
 "cells": [
  {
   "cell_type": "markdown",
   "id": "58135860",
   "metadata": {},
   "source": [
    "<img src=\"IMAGES/Slide1.png\" width=\"100%\" height=\"auto\"/>\n",
    "<img src=\"IMAGES/Slide2.png\" width=\"100%\" height=\"auto\"/>\n",
    "<img src=\"IMAGES/Slide3.png\" width=\"100%\" height=\"auto\"/>\n",
    "<img src=\"IMAGES/Slide4.png\" width=\"100%\" height=\"auto\"/>\n",
    "<img src=\"IMAGES/Slide5.png\" width=\"100%\" height=\"auto\"/>\n",
    "<img src=\"IMAGES/Slide6.png\" width=\"100%\" height=\"auto\"/>\n",
    "<img src=\"IMAGES/Slide7.png\" width=\"100%\" height=\"auto\"/>\n",
    "<img src=\"IMAGES/Slide8.png\" width=\"100%\" height=\"auto\"/>\n",
    "<img src=\"IMAGES/Slide9.png\" width=\"100%\" height=\"auto\"/>\n",
    "<img src=\"IMAGES/Slide10.png\" width=\"100%\" height=\"auto\"/>\n",
    "<img src=\"IMAGES/Slide11.png\" width=\"100%\" height=\"auto\"/>\n",
    "<img src=\"IMAGES/Slide12.png\" width=\"100%\" height=\"auto\"/>\n",
    "<img src=\"IMAGES/Slide13.png\" width=\"100%\" height=\"auto\"/>\n",
    "<img src=\"IMAGES/Slide14.png\" width=\"100%\" height=\"auto\"/>\n",
    "<img src=\"IMAGES/Slide15.png\" width=\"100%\" height=\"auto\"/>\n",
    "<img src=\"IMAGES/Slide16.png\" width=\"100%\" height=\"auto\"/>\n",
    "<img src=\"IMAGES/Slide17.png\" width=\"100%\" height=\"auto\"/>\n",
    "<img src=\"IMAGES/Slide18.png\" width=\"100%\" height=\"auto\"/>\n",
    "<img src=\"IMAGES/Slide19.png\" width=\"100%\" height=\"auto\"/>\n",
    "<img src=\"IMAGES/Slide20.png\" width=\"100%\" height=\"auto\"/>\n",
    "<img src=\"IMAGES/Slide21.png\" width=\"100%\" height=\"auto\"/>\n",
    "<img src=\"IMAGES/Slide22.png\" width=\"100%\" height=\"auto\"/>\n",
    "<img src=\"IMAGES/Slide23.png\" width=\"100%\" height=\"auto\"/>\n",
    "<img src=\"IMAGES/Slide24.png\" width=\"100%\" height=\"auto\"/>\n",
    "<img src=\"IMAGES/Slide25.png\" width=\"100%\" height=\"auto\"/>"
   ]
  }
 ],
 "metadata": {
  "kernelspec": {
   "display_name": "Python 3 (ipykernel)",
   "language": "python",
   "name": "python3"
  },
  "language_info": {
   "codemirror_mode": {
    "name": "ipython",
    "version": 3
   },
   "file_extension": ".py",
   "mimetype": "text/x-python",
   "name": "python",
   "nbconvert_exporter": "python",
   "pygments_lexer": "ipython3",
   "version": "3.11.5"
  }
 },
 "nbformat": 4,
 "nbformat_minor": 5
}
