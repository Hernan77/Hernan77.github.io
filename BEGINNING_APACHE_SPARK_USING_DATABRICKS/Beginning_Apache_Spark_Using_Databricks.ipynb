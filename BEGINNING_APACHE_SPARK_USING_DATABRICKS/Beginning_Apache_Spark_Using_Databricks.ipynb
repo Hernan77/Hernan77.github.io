{
 "cells": [
  {
   "cell_type": "markdown",
   "id": "58135860",
   "metadata": {},
   "source": [
    "<img src=\"IMAGES/Slide1.jpeg\" width=\"1600\" height=\"1400\"/>\n",
    "<img src=\"IMAGES/Slide2.jpeg\" width=\"1600\" height=\"1400\"/>\n",
    "<img src=\"IMAGES/Slide3.jpeg\" width=\"1600\" height=\"1400\"/>\n",
    "<img src=\"IMAGES/Slide4.jpeg\" width=\"1600\" height=\"1400\"/>\n",
    "<img src=\"IMAGES/Slide5.jpeg\" width=\"1600\" height=\"1400\"/>\n",
    "<img src=\"IMAGES/Slide6.jpeg\" width=\"1600\" height=\"1400\"/>\n",
    "<img src=\"IMAGES/Slide7.jpeg\" width=\"1600\" height=\"1400\"/>\n",
    "<img src=\"IMAGES/Slide8.jpeg\" width=\"1600\" height=\"1400\"/>\n",
    "<img src=\"IMAGES/Slide9.jpeg\" width=\"1600\" height=\"1400\"/>\n",
    "<img src=\"IMAGES/Slide10.jpeg\" width=\"1600\" height=\"1400\"/>\n",
    "<img src=\"IMAGES/Slide11.jpeg\" width=\"1600\" height=\"1400\"/>\n",
    "<img src=\"IMAGES/Slide12.jpeg\" width=\"1600\" height=\"1400\"/>\n",
    "<img src=\"IMAGES/Slide13.jpeg\" width=\"1600\" height=\"1400\"/>\n",
    "<img src=\"IMAGES/Slide14.jpeg\" width=\"1600\" height=\"1400\"/>\n",
    "<img src=\"IMAGES/Slide15.jpeg\" width=\"1600\" height=\"1400\"/>\n",
    "<img src=\"IMAGES/Slide16.jpeg\" width=\"1600\" height=\"1400\"/>\n",
    "<img src=\"IMAGES/Slide17.jpeg\" width=\"1600\" height=\"1400\"/>\n",
    "<img src=\"IMAGES/Slide18.jpeg\" width=\"1600\" height=\"1400\"/>\n",
    "<img src=\"IMAGES/Slide19.jpeg\" width=\"1600\" height=\"1400\"/>\n",
    "<img src=\"IMAGES/Slide20.jpeg\" width=\"1600\" height=\"1400\"/>\n",
    "<img src=\"IMAGES/Slide21.jpeg\" width=\"1600\" height=\"1400\"/>\n",
    "<img src=\"IMAGES/Slide22.jpeg\" width=\"1600\" height=\"1400\"/>\n",
    "<img src=\"IMAGES/Slide23.jpeg\" width=\"1600\" height=\"1400\"/>\n",
    "<img src=\"IMAGES/Slide24.jpeg\" width=\"1600\" height=\"1400\"/>\n",
    "<img src=\"IMAGES/Slide25.jpeg\" width=\"1600\" height=\"1400\"/>"
   ]
  }
 ],
 "metadata": {
  "kernelspec": {
   "display_name": "Python 3 (ipykernel)",
   "language": "python",
   "name": "python3"
  },
  "language_info": {
   "codemirror_mode": {
    "name": "ipython",
    "version": 3
   },
   "file_extension": ".py",
   "mimetype": "text/x-python",
   "name": "python",
   "nbconvert_exporter": "python",
   "pygments_lexer": "ipython3",
   "version": "3.11.5"
  }
 },
 "nbformat": 4,
 "nbformat_minor": 5
}
